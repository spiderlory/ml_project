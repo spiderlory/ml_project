{
 "cells": [
  {
   "cell_type": "markdown",
   "metadata": {},
   "source": [
    "# Introduzione\n",
    "\n",
    "Quanto segue è la realizzazione del progetto \"House Prices Advanced Regression Techniques\" prodotta da *Paolo Ciasco* & *Lorenzo Mancino*. Il work-flow deciso aprirà con un parte di feature engineering per poi testare vari modelli di apprendimento studiati all'interno del corso.\n",
    "<!-- TBD -->\n",
    "\n"
   ]
  },
  {
   "cell_type": "markdown",
   "metadata": {},
   "source": [
    "### Librerie Utilizzate"
   ]
  },
  {
   "cell_type": "code",
   "execution_count": 24,
   "metadata": {},
   "outputs": [],
   "source": [
    "import pandas as pd\n",
    "import numpy as np\n",
    "import missingno as msno\n",
    "import matplotlib.pyplot as plt\n",
    "import seaborn as sns\n",
    "from sklearn.preprocessing import LabelEncoder\n",
    "from IPython.core.interactiveshell import InteractiveShell\n",
    "InteractiveShell.ast_node_interactivity = \"all\" # Display multipli in fase di output"
   ]
  },
  {
   "cell_type": "markdown",
   "metadata": {},
   "source": [
    "### Dati a Disposizione\n",
    "\n",
    "Essendo una competizione di Kaggle e non essendo il nostro scopo partecipare ad essa abbiamo dovuto sistemare i dati a disposizione affinché avessimo un dataset consistente e propedeutico al nostro scopo. I dati forniti da Kaggle, infatti, sono costruiti affinché tutte le persone possano concorrere su uno stesso testset con i target dello stesso inseriti in un ulteriore file .csv. Il nostro lavoro è stato di unire il train ed il testset (riportando i target nello stesso) per generare un unico dataset su cui ci concentreremo."
   ]
  },
  {
   "cell_type": "code",
   "execution_count": 33,
   "metadata": {},
   "outputs": [],
   "source": [
    "train_set = pd.read_csv(\"./train.csv\") # Caricamento del trainset\n",
    "test_set = pd.read_csv(\"./test.csv\") # Caricamento del testset\n",
    "target_set = pd.read_csv(\"./sample_submission.csv\") # Caricamento del file ove sono presenti i target\n",
    "\n",
    "SalePrice = target_set.SalePrice # Selezione della colonna dei target\n",
    "#test_set = test_set.join(SalePrice) # Immissione della colonna dei target nel testset\n",
    "#test_set.to_csv('test.csv', index=False) # Sovrascrittura del testset con quello sistemato\n",
    "\n",
    "# Unione del testset sistemato con il trainset\n",
    "\n",
    "data_support = pd.read_csv('test.csv')\n",
    "frames = [train_set, data_support]\n",
    "final = pd.concat(frames)\n",
    "final.to_csv('dataset.csv', index=False) # Export del file\n",
    "\n",
    "# Caricamento del dataset ottenuto\n",
    "\n",
    "data = pd.read_csv('dataset.csv')\n"
   ]
  },
  {
   "cell_type": "markdown",
   "metadata": {},
   "source": [
    "### Analisi Dei Dati\n",
    "\n",
    "Viene effettuata ora un'analisi dei dati per vedere cosa abbiamo a disposizione per svolgere il task: fare regressione sul prezzo delle case."
   ]
  },
  {
   "cell_type": "markdown",
   "metadata": {},
   "source": [
    "Come prima cosa si mostra con quanti elementi stiamo lavorando ed il numero delle feature fornite."
   ]
  },
  {
   "cell_type": "code",
   "execution_count": 55,
   "metadata": {},
   "outputs": [
    {
     "data": {
      "text/html": [
       "<div>\n",
       "<style scoped>\n",
       "    .dataframe tbody tr th:only-of-type {\n",
       "        vertical-align: middle;\n",
       "    }\n",
       "\n",
       "    .dataframe tbody tr th {\n",
       "        vertical-align: top;\n",
       "    }\n",
       "\n",
       "    .dataframe thead th {\n",
       "        text-align: right;\n",
       "    }\n",
       "</style>\n",
       "<table border=\"1\" class=\"dataframe\">\n",
       "  <thead>\n",
       "    <tr style=\"text-align: right;\">\n",
       "      <th></th>\n",
       "      <th>Id</th>\n",
       "      <th>MSSubClass</th>\n",
       "      <th>MSZoning</th>\n",
       "      <th>LotFrontage</th>\n",
       "      <th>LotArea</th>\n",
       "    </tr>\n",
       "  </thead>\n",
       "  <tbody>\n",
       "    <tr>\n",
       "      <th>0</th>\n",
       "      <td>1</td>\n",
       "      <td>60</td>\n",
       "      <td>RL</td>\n",
       "      <td>65.0</td>\n",
       "      <td>8450</td>\n",
       "    </tr>\n",
       "    <tr>\n",
       "      <th>1</th>\n",
       "      <td>2</td>\n",
       "      <td>20</td>\n",
       "      <td>RL</td>\n",
       "      <td>80.0</td>\n",
       "      <td>9600</td>\n",
       "    </tr>\n",
       "    <tr>\n",
       "      <th>2</th>\n",
       "      <td>3</td>\n",
       "      <td>60</td>\n",
       "      <td>RL</td>\n",
       "      <td>68.0</td>\n",
       "      <td>11250</td>\n",
       "    </tr>\n",
       "    <tr>\n",
       "      <th>3</th>\n",
       "      <td>4</td>\n",
       "      <td>70</td>\n",
       "      <td>RL</td>\n",
       "      <td>60.0</td>\n",
       "      <td>9550</td>\n",
       "    </tr>\n",
       "    <tr>\n",
       "      <th>4</th>\n",
       "      <td>5</td>\n",
       "      <td>60</td>\n",
       "      <td>RL</td>\n",
       "      <td>84.0</td>\n",
       "      <td>14260</td>\n",
       "    </tr>\n",
       "  </tbody>\n",
       "</table>\n",
       "</div>"
      ],
      "text/plain": [
       "   Id  MSSubClass MSZoning  LotFrontage  LotArea\n",
       "0   1          60       RL         65.0     8450\n",
       "1   2          20       RL         80.0     9600\n",
       "2   3          60       RL         68.0    11250\n",
       "3   4          70       RL         60.0     9550\n",
       "4   5          60       RL         84.0    14260"
      ]
     },
     "execution_count": 55,
     "metadata": {},
     "output_type": "execute_result"
    },
    {
     "data": {
      "text/plain": [
       "(2919, 81)"
      ]
     },
     "execution_count": 55,
     "metadata": {},
     "output_type": "execute_result"
    },
    {
     "data": {
      "text/html": [
       "<div>\n",
       "<style scoped>\n",
       "    .dataframe tbody tr th:only-of-type {\n",
       "        vertical-align: middle;\n",
       "    }\n",
       "\n",
       "    .dataframe tbody tr th {\n",
       "        vertical-align: top;\n",
       "    }\n",
       "\n",
       "    .dataframe thead th {\n",
       "        text-align: right;\n",
       "    }\n",
       "</style>\n",
       "<table border=\"1\" class=\"dataframe\">\n",
       "  <thead>\n",
       "    <tr style=\"text-align: right;\">\n",
       "      <th></th>\n",
       "      <th>SalePrice</th>\n",
       "    </tr>\n",
       "  </thead>\n",
       "  <tbody>\n",
       "    <tr>\n",
       "      <th>1</th>\n",
       "      <td>181500.0</td>\n",
       "    </tr>\n",
       "    <tr>\n",
       "      <th>2</th>\n",
       "      <td>223500.0</td>\n",
       "    </tr>\n",
       "  </tbody>\n",
       "</table>\n",
       "</div>"
      ],
      "text/plain": [
       "   SalePrice\n",
       "1   181500.0\n",
       "2   223500.0"
      ]
     },
     "execution_count": 55,
     "metadata": {},
     "output_type": "execute_result"
    }
   ],
   "source": [
    "data.iloc[0:5, 0:5] # Porzione di dataframe\n",
    "\n",
    "data.shape # Mostra le righe e le colonne del dataframe\n",
    "\n",
    "data.iloc[1:3, 80:81] # Locazione del target"
   ]
  },
  {
   "cell_type": "markdown",
   "metadata": {},
   "source": [
    "Il dataset fornito raccoglie $2919$ elementi e $81$ feature (includendo anche il target come 81esima feature). I dati forniti, inoltre, forniscono un utilissimo file .txt che descrive rapidamente le feature utilizzate."
   ]
  },
  {
   "cell_type": "markdown",
   "metadata": {},
   "source": [
    "Non essendo il dataset eccessivamente popolato, sebbene non verranno usate Neural Network, si decide di sfruttare la k-fold validation.\n",
    "Essendo le feature un numero veramente elevato per una regressione del prezzo di una casa si decide di attuare la cosidetta Feature Engineering. "
   ]
  },
  {
   "cell_type": "markdown",
   "metadata": {},
   "source": [
    "### Feature Engineering\n",
    "\n",
    "Come prima cosa si controlla l'eventuale assenza completa di dati in qualche colonna"
   ]
  },
  {
   "cell_type": "code",
   "execution_count": 34,
   "metadata": {},
   "outputs": [],
   "source": [
    "# Iterazione su tutte le colonne per controllare l'eventuale presenza di valori nulli su tutta l'intera colonna\n",
    "\n",
    "for i in data.columns:\n",
    "    if data[i].isnull().all():\n",
    "        print(data[i])\n",
    "    "
   ]
  },
  {
   "cell_type": "markdown",
   "metadata": {},
   "source": [
    "Sfruttando la libreria *missingno* vogliamo mostrare una matrice di valori mancanti per trovare eventuali feature poco popolate su cui fare un'analisi ulteriore."
   ]
  },
  {
   "cell_type": "code",
   "execution_count": 56,
   "metadata": {},
   "outputs": [
    {
     "data": {
      "text/plain": [
       "<AxesSubplot:>"
      ]
     },
     "execution_count": 56,
     "metadata": {},
     "output_type": "execute_result"
    },
    {
     "data": {
      "image/png": "[encoded data removed]",
      "text/plain": [
       "<Figure size 1800x720 with 2 Axes>"
      ]
     },
     "metadata": {
      "needs_background": "light"
     },
     "output_type": "display_data"
    }
   ],
   "source": [
    "msno.matrix(data, labels=True, fontsize=8, color = (0.12,0.25,0.34))\n"
   ]
  },
  {
   "cell_type": "markdown",
   "metadata": {},
   "source": [
    "La prima feature che notiamo essere poco popolata è **Alley**, ovvero (seguendo le istruzioni fornite come specificato poco prima) la feature riguardante l'ingresso o meno da dei vicoli e, se presente, il materiale usato per lo stesso. In questo caso non è salutare eliminare direttamente la feature perché in realta i valori mancanti indicano il fatto che la casa non ha ingressi da vicoli che, in un ipotetico prezzo finale, è una caratteristica che è rilevante. Riguardo questo, utilizzeremo un metodo per \"fillare\" i valori nulli in modo tale che l'informazione venga preservata.\n",
    "\n",
    "La seconda feature che coglie la nostra attenzione è **FireplaceQu**, ovvero la feature che esprime la qualità del camino se presente. Qui, a differenza di prima, ci annotiamo questa feature come potenzialmente \"inutile\" perchè è presente una ulteriore feature (**Fireplaces**) che descrive il numero di camini presenti nella casa. Sfrutteremo in seguito un'analisi di correlazione per confermare o meno questa ipotesi.\n",
    "\n",
    "La terza feature che vediamo essere poco popolata è **PoolQC**, ovvero la feature che rappresenta la qualità della piscina se presente. Anche qui la feature viene memorizzata perché presente un'altra feature (**PoolArea**) che esprime i metri quadri della piscina. Ulteriori analisi e ragionamenti in seguito all'analisi di correlazione.\n",
    "\n",
    "La quarta feature interessante è **Fence**, ovvero la feature che esprime la presenza o meno di una recizione e, se presente,la sua qualità. Come nel primo caso non possiamo ragionare su questa feature in quanto la presenza di una recizione è sicuramente un elemento a favore o meno di un prezzo.\n",
    "\n",
    "L'ultima feature è **MiscFeature**, ovvero la feature che descrive elementi addizionali di una casa(ad es. Ascensore, Campo da Tennis, ...). Prendiamo nota di questa feature in quanto è presente una ulteriore feature (**MiscVal**) che esprime il valore totale di tutti gli elementi addizionali presenti. Anche qui verranno eseguite ulteriori analisi.\n"
   ]
  },
  {
   "cell_type": "markdown",
   "metadata": {},
   "source": [
    "##### Data Processing\n",
    "\n",
    "Cominciamo a lavorare sul dataset cominciando il preprocessing dei dati.\n",
    "E' necessaria una piccola digressione su come possono essere presentate le feature. Si distinguono feature categoriche(ovvero che sono espresse tramite stringhe) da quelle numeriche ed a loro volta le stesse si dividono in categoriche nominali(non sensibili all'ordinamento) e categoriche ordinali. Il nostro obiettivo è quello di trasformare tutte le feature categoriche in numeriche affinché il modello abbia dati in ingresso omogenei e possiamo confrontare tutte le feature tra di loro per scovare eventuali correlazioni o altro.\\\n",
    "Viene presentato ora un esempio di feature **categorica nominale** che indica la classificazione dell'immobile in base alla zona dove risiede:"
   ]
  },
  {
   "cell_type": "code",
   "execution_count": 11,
   "metadata": {},
   "outputs": [
    {
     "data": {
      "text/plain": [
       "0       RL\n",
       "1       RL\n",
       "2       RL\n",
       "3       RL\n",
       "4       RL\n",
       "        ..\n",
       "2914    RM\n",
       "2915    RM\n",
       "2916    RL\n",
       "2917    RL\n",
       "2918    RL\n",
       "Name: MSZoning, Length: 2919, dtype: object"
      ]
     },
     "execution_count": 11,
     "metadata": {},
     "output_type": "execute_result"
    }
   ],
   "source": [
    "data[\"MSZoning\"]"
   ]
  },
  {
   "cell_type": "markdown",
   "metadata": {},
   "source": [
    "Viene ora presentato, invece, un esempio di feature **categoria ordinale** che indica la qualità dei materiali della casa da un minimo di 1 a un massimo di 10:"
   ]
  },
  {
   "cell_type": "code",
   "execution_count": 12,
   "metadata": {},
   "outputs": [
    {
     "data": {
      "text/plain": [
       "0       7\n",
       "1       6\n",
       "2       7\n",
       "3       7\n",
       "4       8\n",
       "       ..\n",
       "2914    4\n",
       "2915    4\n",
       "2916    5\n",
       "2917    5\n",
       "2918    7\n",
       "Name: OverallQual, Length: 2919, dtype: int64"
      ]
     },
     "execution_count": 12,
     "metadata": {},
     "output_type": "execute_result"
    }
   ],
   "source": [
    "data[\"OverallQual\"]"
   ]
  },
  {
   "cell_type": "markdown",
   "metadata": {},
   "source": [
    "Quanto segue è la trasformazione di tutte le feature del dataset in numeri e, contemporaneamente, gestione dei valori nulli(NaN) del dataset; sfrutteremo il **Label Encoder** andando a sovrascrivere la colonna della feature selezionata con il nuovo valore. Ovviamente per quanto riguarda le feature categoriche ordinali seguiamo un approccio che preservi l'ordine tramite dizionari con le scale definite da noi.\\\n",
    "Il Label Encoder fornisce una codifica univoca per ogni colonna di feature. \\\n",
    "L'idea è quella di quella di riempire tutti i valori nulli con una stringa speciale \"0000\" e di assegnargli valore 0 sia nelle categoriche ordinali che nominali. Per quanto riguarda le colonne che ospitavano degli interi faremo una sostituzione finale sostituendo la stringa \"0000\" in tutto il dataset con 0.\\\n",
    "In questo modo abbiamo gestito sia i valori nulli del dataset che le feature categoriche."
   ]
  },
  {
   "cell_type": "code",
   "execution_count": 34,
   "metadata": {},
   "outputs": [],
   "source": [
    "%%capture \n",
    "\n",
    "# Definizione delle feature categoriche nominali per richiamarle poi nel ciclo for\n",
    "\n",
    "categorical_nominal_features = [\"MSZoning\", \"Street\", \"Alley\", \"LotShape\", \"LandContour\", \"Utilities\", \"LotConfig\",\n",
    "                                \"LandSlope\", \"Neighborhood\", \"Condition1\", \"Condition2\", \"BldgType\", \"HouseStyle\",\n",
    "                                \"RoofStyle\", \"RoofMatl\", \"Exterior1st\", \"Exterior2nd\",\n",
    "                                \"MasVnrType\", \"Foundation\", \"Heating\", \"CentralAir\", \"Electrical\",\n",
    "                                \"Functional\", \"GarageType\", \"PavedDrive\", \"MiscFeature\", \"SaleType\",\n",
    "                                \"SaleCondition\"]\n",
    "\n",
    "# Definizione delle feature categoriche ordinali per richiamarle poi nel ciclo for\n",
    "\n",
    "categorical_ordinal_features = [\n",
    "    \"ExterQual\", \"ExterCond\", \"BsmtQual\", \"BsmtCond\", \"HeatingQC\", \"KitchenQual\", \"FireplaceQu\", \"GarageQual\",\n",
    "    \"GarageCond\", \"PoolQC\", \"BsmtExposure\", \"BsmtFinType1\", \"BsmtFinType2\", \"GarageFinish\", \"Fence\"\n",
    "]\n",
    "\n",
    "# Scrittura delle scale differenti presenti nel dataset(prese dalla descrizione dei dati)\n",
    "\n",
    "quality_scale_dict = {\"0000\":0, \"NA\": 0, \"Po\": 1, \"Fa\": 2, \"TA\": 3, \"Gd\": 4, \"Ex\": 5}\n",
    "BstmExposure_dict = {\"0000\":0, \"NA\": 0, \"No\": 1, \"Mn\": 2, \"Av\": 3, \"Gd\": 4}\n",
    "BsmtFinType_dict = {\"0000\":0, \"NA\": 0, \"Unf\": 1, \"LwQ\": 2, \"Rec\": 3, \"BLQ\": 4, \"ALQ\": 5, \"GLQ\": 6}\n",
    "GarageFinish_dict = {\"0000\":0, \"NA\": 0, \"Unf\": 1, \"RFn\": 2, \"Fin\": 3}\n",
    "Fence_dict = {\"0000\":0, \"NA\": 0, \"MnWw\": 1, \"GdWo\": 2, \"MnPrv\": 3, \"GdPrv\": 4}\n",
    "\n",
    "# Assegnazione delle scale alle feature(secondo la descrizione dei dati)\n",
    "\n",
    "feature_scale_dict = {\n",
    "    \"ExterQual\": quality_scale_dict,\n",
    "    \"ExterCond\": quality_scale_dict,\n",
    "    \"BsmtQual\": quality_scale_dict,\n",
    "    \"BsmtCond\": quality_scale_dict,\n",
    "    \"HeatingQC\": quality_scale_dict,\n",
    "    \"KitchenQual\": quality_scale_dict,\n",
    "    \"FireplaceQu\": quality_scale_dict,\n",
    "    \"GarageQual\": quality_scale_dict,\n",
    "    \"GarageCond\": quality_scale_dict,\n",
    "    \"PoolQC\": quality_scale_dict,\n",
    "    \"BsmtExposure\": BstmExposure_dict,\n",
    "    \"BsmtFinType1\": BsmtFinType_dict,\n",
    "    \"BsmtFinType2\": BsmtFinType_dict,\n",
    "    \"GarageFinish\": GarageFinish_dict,\n",
    "    \"Fence\": Fence_dict\n",
    "}\n",
    "\n",
    "data.fillna(\"0000\", inplace=True) # Replace dei valori nulli con una stringa speciale che non è presente nel dataset\n",
    "\n",
    "# Trasformazione tramite LabelEncoder delle feature categoriche nominali\n",
    "\n",
    "le = LabelEncoder()\n",
    "\n",
    "for feature in categorical_nominal_features:\n",
    "    le.fit(data[feature])\n",
    "    data[feature] = le.transform(data[feature])\n",
    "\n",
    "# Trasformazione tramite apply rispetto il dizionario prima creato\n",
    "\n",
    "for feature in categorical_ordinal_features:\n",
    "    dict = feature_scale_dict[feature]\n",
    "    data[feature] = data[feature].apply(lambda x: dict[x])\n",
    "\n",
    "\n",
    "data.replace(\"0000\", 0, inplace=True) # Replace finale per gestire colonne dove sono finite le stringhe speciali\n",
    "\n"
   ]
  },
  {
   "cell_type": "markdown",
   "metadata": {},
   "source": [
    "#### Correlazione tra feature\n",
    "\n",
    "In questa parte faremo un'analisi rispetto alla correlazione tra feature per trovare eventuali feature collimabili"
   ]
  },
  {
   "cell_type": "code",
   "execution_count": 11,
   "metadata": {},
   "outputs": [
    {
     "data": {
      "text/plain": [
       "['YearBuilt and YearRemodAdd',\n",
       " 'YearBuilt and GarageYrBlt',\n",
       " 'YearRemodAdd and GarageYrBlt',\n",
       " 'Exterior1st and Exterior2nd',\n",
       " 'BsmtFinType1 and BsmtFinSF1',\n",
       " 'BsmtFinType2 and BsmtFinSF2',\n",
       " 'TotalBsmtSF and 1stFlrSF',\n",
       " 'GrLivArea and TotRmsAbvGrd',\n",
       " 'Fireplaces and FireplaceQu',\n",
       " 'GarageCars and GarageArea',\n",
       " 'GarageQual and GarageCond',\n",
       " 'PoolArea and PoolQC',\n",
       " 'MiscFeature and MiscVal']"
      ]
     },
     "execution_count": 11,
     "metadata": {},
     "output_type": "execute_result"
    }
   ],
   "source": [
    "\n",
    "corr = data.corr(method=\"spearman\")\n",
    "corr.style.background_gradient(cmap='coolwarm').to_html('asd.html')\n",
    "\n",
    "\n",
    "soglia0 = .60\n",
    "soglia1 = .70\n",
    "soglia2 = .80\n",
    "soglia3 = .90\n",
    "     \n",
    "\n",
    "\n",
    "[f\"{corr.columns[i]} and {corr.columns[j]}\" for i, j in zip(*np.where(np.abs(corr.values) >= soglia0)) if i < j]\n",
    "[f\"{corr.columns[i]} and {corr.columns[j]}\" for i, j in zip(*np.where(np.abs(corr.values) >= soglia1)) if i < j]\n",
    "#[f\"{corr.columns[i]} and {corr.columns[j]}\" for i, j in zip(*np.where(np.abs(corr.values) >= soglia2)) if i < j]\n",
    "#[f\"{corr.columns[i]} and {corr.columns[j]}\" for i, j in zip(*np.where(np.abs(corr.values) >= soglia3)) if i < j]\n"
   ]
  },
  {
   "cell_type": "code",
   "execution_count": null,
   "metadata": {},
   "outputs": [],
   "source": []
  },
  {
   "cell_type": "code",
   "execution_count": null,
   "metadata": {},
   "outputs": [],
   "source": []
  },
  {
   "cell_type": "code",
   "execution_count": null,
   "metadata": {},
   "outputs": [],
   "source": []
  },
  {
   "cell_type": "code",
   "execution_count": null,
   "metadata": {},
   "outputs": [],
   "source": []
  }
 ],
 "metadata": {
  "interpreter": {
   "hash": "6c7f3514aa64bff2050be46dd126600a182e852c5c9d7f0c8c07ad90dc295c52"
  },
  "kernelspec": {
   "display_name": "Python 3.9.7 ('base')",
   "language": "python",
   "name": "python3"
  },
  "language_info": {
   "codemirror_mode": {
    "name": "ipython",
    "version": 3
   },
   "file_extension": ".py",
   "mimetype": "text/x-python",
   "name": "python",
   "nbconvert_exporter": "python",
   "pygments_lexer": "ipython3",
   "version": "3.9.7"
  },
  "orig_nbformat": 4
 },
 "nbformat": 4,
 "nbformat_minor": 2
}
