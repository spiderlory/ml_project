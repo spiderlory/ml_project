{
 "cells": [
  {
   "cell_type": "markdown",
   "metadata": {},
   "source": [
    "# Introduzione\n",
    "\n",
    "Quanto segue è la realizzazione del progetto \"House Prices Advanced Regression Techniques\" prodotta da *Paolo Ciasco* & *Lorenzo Mancino*. Il work-flow deciso aprirà con un parte di feature engineering per poi testare vari modelli di apprendimento studiati all'interno del corso.\n",
    "<!-- TBD -->\n",
    "\n"
   ]
  },
  {
   "cell_type": "markdown",
   "metadata": {},
   "source": [
    "### Librerie Utilizzate"
   ]
  },
  {
   "cell_type": "code",
   "execution_count": 2,
   "metadata": {},
   "outputs": [],
   "source": [
    "import pandas as pd\n",
    "import numpy as np\n",
    "import missingno as msno\n",
    "import matplotlib.pyplot as plt\n",
    "import seaborn as sns\n",
    "from sklearn.preprocessing import LabelEncoder\n",
    "from IPython.core.interactiveshell import InteractiveShell\n",
    "InteractiveShell.ast_node_interactivity = \"all\" # Display multipli in fase di output"
   ]
  },
  {
   "cell_type": "code",
   "execution_count": 97,
   "metadata": {},
   "outputs": [],
   "source": [
    "from sklearn.linear_model import LinearRegression\n",
    "from sklearn.tree import DecisionTreeRegressor\n",
    "from sklearn.ensemble import BaggingRegressor\n",
    "from sklearn.ensemble import GradientBoostingRegressor\n",
    "from sklearn.ensemble import RandomForestRegressor\n",
    "from sklearn.neighbors import KNeighborsRegressor\n",
    "from sklearn.model_selection import GridSearchCV\n",
    "from sklearn.model_selection import train_test_split\n",
    "from sklearn.model_selection import cross_val_score\n",
    "from sklearn.model_selection import cross_val_predict\n",
    "from sklearn.model_selection import KFold"
   ]
  },
  {
   "cell_type": "markdown",
   "metadata": {},
   "source": [
    "### Dati a Disposizione\n",
    "\n",
    "Essendo una competizione di Kaggle e non essendo il nostro scopo partecipare ad essa abbiamo dovuto sistemare i dati a disposizione affinché avessimo un dataset consistente e propedeutico al nostro scopo. I dati forniti da Kaggle, infatti, sono costruiti affinché tutte le persone possano concorrere su uno stesso testset con i target dello stesso inseriti in un ulteriore file .csv. Il nostro lavoro è stato di unire il train ed il testset (riportando i target nello stesso) per generare un unico dataset su cui ci concentreremo."
   ]
  },
  {
   "cell_type": "code",
   "execution_count": 47,
   "metadata": {},
   "outputs": [],
   "source": [
    "train_set = pd.read_csv(\"./train.csv\") # Caricamento del trainset\n",
    "test_set = pd.read_csv(\"./test.csv\") # Caricamento del testset\n",
    "target_set = pd.read_csv(\"./sample_submission.csv\") # Caricamento del file ove sono presenti i target\n",
    "\n",
    "SalePrice = target_set.SalePrice # Selezione della colonna dei target\n",
    "#test_set = test_set.join(SalePrice) # Immissione della colonna dei target nel testset\n",
    "#test_set.to_csv('test.csv', index=False) # Sovrascrittura del testset con quello sistemato\n",
    "\n",
    "# Unione del testset sistemato con il trainset\n",
    "\n",
    "data_support = pd.read_csv('test.csv')\n",
    "frames = [train_set, data_support]\n",
    "final = pd.concat(frames)\n",
    "final.to_csv('dataset.csv', index=False) # Export del file\n",
    "\n",
    "# Caricamento del dataset ottenuto\n",
    "\n",
    "data = pd.read_csv('dataset.csv')\n",
    "\n",
    "data = data.sample(frac = 1)\n"
   ]
  },
  {
   "cell_type": "markdown",
   "metadata": {},
   "source": [
    "### Analisi Dei Dati\n",
    "\n",
    "Viene effettuata ora un'analisi dei dati per vedere cosa abbiamo a disposizione per svolgere il task: fare regressione sul prezzo delle case."
   ]
  },
  {
   "cell_type": "markdown",
   "metadata": {},
   "source": [
    "Come prima cosa si mostra con quanti elementi stiamo lavorando ed il numero delle feature fornite."
   ]
  },
  {
   "cell_type": "code",
   "execution_count": 48,
   "metadata": {},
   "outputs": [
    {
     "data": {
      "text/html": [
       "<div>\n",
       "<style scoped>\n",
       "    .dataframe tbody tr th:only-of-type {\n",
       "        vertical-align: middle;\n",
       "    }\n",
       "\n",
       "    .dataframe tbody tr th {\n",
       "        vertical-align: top;\n",
       "    }\n",
       "\n",
       "    .dataframe thead th {\n",
       "        text-align: right;\n",
       "    }\n",
       "</style>\n",
       "<table border=\"1\" class=\"dataframe\">\n",
       "  <thead>\n",
       "    <tr style=\"text-align: right;\">\n",
       "      <th></th>\n",
       "      <th>Id</th>\n",
       "      <th>MSSubClass</th>\n",
       "      <th>MSZoning</th>\n",
       "      <th>LotFrontage</th>\n",
       "      <th>LotArea</th>\n",
       "    </tr>\n",
       "  </thead>\n",
       "  <tbody>\n",
       "    <tr>\n",
       "      <th>2700</th>\n",
       "      <td>2701</td>\n",
       "      <td>60</td>\n",
       "      <td>RL</td>\n",
       "      <td>NaN</td>\n",
       "      <td>9019</td>\n",
       "    </tr>\n",
       "    <tr>\n",
       "      <th>2121</th>\n",
       "      <td>2122</td>\n",
       "      <td>50</td>\n",
       "      <td>RM</td>\n",
       "      <td>52.0</td>\n",
       "      <td>6240</td>\n",
       "    </tr>\n",
       "    <tr>\n",
       "      <th>2132</th>\n",
       "      <td>2133</td>\n",
       "      <td>30</td>\n",
       "      <td>RM</td>\n",
       "      <td>60.0</td>\n",
       "      <td>7200</td>\n",
       "    </tr>\n",
       "    <tr>\n",
       "      <th>1931</th>\n",
       "      <td>1932</td>\n",
       "      <td>60</td>\n",
       "      <td>RL</td>\n",
       "      <td>62.0</td>\n",
       "      <td>10429</td>\n",
       "    </tr>\n",
       "    <tr>\n",
       "      <th>827</th>\n",
       "      <td>828</td>\n",
       "      <td>20</td>\n",
       "      <td>RL</td>\n",
       "      <td>65.0</td>\n",
       "      <td>8529</td>\n",
       "    </tr>\n",
       "  </tbody>\n",
       "</table>\n",
       "</div>"
      ],
      "text/plain": [
       "        Id  MSSubClass MSZoning  LotFrontage  LotArea\n",
       "2700  2701          60       RL          NaN     9019\n",
       "2121  2122          50       RM         52.0     6240\n",
       "2132  2133          30       RM         60.0     7200\n",
       "1931  1932          60       RL         62.0    10429\n",
       "827    828          20       RL         65.0     8529"
      ]
     },
     "execution_count": 48,
     "metadata": {},
     "output_type": "execute_result"
    },
    {
     "data": {
      "text/plain": [
       "(2919, 81)"
      ]
     },
     "execution_count": 48,
     "metadata": {},
     "output_type": "execute_result"
    },
    {
     "data": {
      "text/html": [
       "<div>\n",
       "<style scoped>\n",
       "    .dataframe tbody tr th:only-of-type {\n",
       "        vertical-align: middle;\n",
       "    }\n",
       "\n",
       "    .dataframe tbody tr th {\n",
       "        vertical-align: top;\n",
       "    }\n",
       "\n",
       "    .dataframe thead th {\n",
       "        text-align: right;\n",
       "    }\n",
       "</style>\n",
       "<table border=\"1\" class=\"dataframe\">\n",
       "  <thead>\n",
       "    <tr style=\"text-align: right;\">\n",
       "      <th></th>\n",
       "      <th>SalePrice</th>\n",
       "    </tr>\n",
       "  </thead>\n",
       "  <tbody>\n",
       "    <tr>\n",
       "      <th>2121</th>\n",
       "      <td>162690.209132</td>\n",
       "    </tr>\n",
       "    <tr>\n",
       "      <th>2132</th>\n",
       "      <td>163474.633393</td>\n",
       "    </tr>\n",
       "  </tbody>\n",
       "</table>\n",
       "</div>"
      ],
      "text/plain": [
       "          SalePrice\n",
       "2121  162690.209132\n",
       "2132  163474.633393"
      ]
     },
     "execution_count": 48,
     "metadata": {},
     "output_type": "execute_result"
    }
   ],
   "source": [
    "data.iloc[0:5, 0:5] # Porzione di dataframe\n",
    "\n",
    "data.shape # Mostra le righe e le colonne del dataframe\n",
    "\n",
    "data.iloc[1:3, 80:81] # Locazione del target"
   ]
  },
  {
   "cell_type": "markdown",
   "metadata": {},
   "source": [
    "Il dataset fornito raccoglie $2919$ elementi e $81$ feature (includendo anche il target come 81esima feature). I dati forniti, inoltre, forniscono un utilissimo file .txt che descrive rapidamente le feature utilizzate."
   ]
  },
  {
   "cell_type": "markdown",
   "metadata": {},
   "source": [
    "Non essendo il dataset eccessivamente popolato, sebbene non verranno usate Neural Network, si decide di sfruttare la k-fold validation.\n",
    "Essendo le feature un numero veramente elevato per una regressione del prezzo di una casa si decide di attuare la cosidetta Feature Engineering. "
   ]
  },
  {
   "cell_type": "markdown",
   "metadata": {},
   "source": [
    "### Feature Engineering\n",
    "\n",
    "Come prima cosa si controlla l'eventuale assenza completa di dati in qualche colonna"
   ]
  },
  {
   "cell_type": "code",
   "execution_count": 11,
   "metadata": {},
   "outputs": [],
   "source": [
    "# Iterazione su tutte le colonne per controllare l'eventuale presenza di valori nulli su tutta l'intera colonna\n",
    "\n",
    "for i in data.columns:\n",
    "    if data[i].isnull().all():\n",
    "        print(data[i])\n",
    "    "
   ]
  },
  {
   "cell_type": "markdown",
   "metadata": {},
   "source": [
    "Sfruttando la libreria *missingno* vogliamo mostrare una matrice di valori mancanti per trovare eventuali feature poco popolate su cui fare un'analisi ulteriore."
   ]
  },
  {
   "cell_type": "code",
   "execution_count": 49,
   "metadata": {},
   "outputs": [
    {
     "data": {
      "text/plain": [
       "<AxesSubplot:>"
      ]
     },
     "execution_count": 49,
     "metadata": {},
     "output_type": "execute_result"
    },
    {
     "data": {
      "image/png": "[encoded data removed]",
      "text/plain": [
       "<Figure size 1800x720 with 2 Axes>"
      ]
     },
     "metadata": {
      "needs_background": "light"
     },
     "output_type": "display_data"
    }
   ],
   "source": [
    "msno.matrix(data, labels=True, fontsize=8, color = (0.12,0.25,0.34))\n"
   ]
  },
  {
   "cell_type": "markdown",
   "metadata": {},
   "source": [
    "La prima feature che notiamo essere poco popolata è **Alley**, ovvero (seguendo le istruzioni fornite come specificato poco prima) la feature riguardante l'ingresso o meno da dei vicoli e, se presente, il materiale usato per lo stesso. In questo caso non è salutare eliminare direttamente la feature perché in realta i valori mancanti indicano il fatto che la casa non ha ingressi da vicoli che, in un ipotetico prezzo finale, è una caratteristica che è rilevante. Riguardo questo, utilizzeremo un metodo per \"fillare\" i valori nulli in modo tale che l'informazione venga preservata.\n",
    "\n",
    "La seconda feature che coglie la nostra attenzione è **FireplaceQu**, ovvero la feature che esprime la qualità del camino se presente. Qui, a differenza di prima, ci annotiamo questa feature come potenzialmente \"inutile\" perchè è presente una ulteriore feature (**Fireplaces**) che descrive il numero di camini presenti nella casa. Sfrutteremo in seguito un'analisi di correlazione per confermare o meno questa ipotesi.\n",
    "\n",
    "La terza feature che vediamo essere poco popolata è **PoolQC**, ovvero la feature che rappresenta la qualità della piscina se presente. Anche qui la feature viene memorizzata perché presente un'altra feature (**PoolArea**) che esprime i metri quadri della piscina. Ulteriori analisi e ragionamenti in seguito all'analisi di correlazione.\n",
    "\n",
    "La quarta feature interessante è **Fence**, ovvero la feature che esprime la presenza o meno di una recizione e, se presente,la sua qualità. Come nel primo caso non possiamo ragionare su questa feature in quanto la presenza di una recizione è sicuramente un elemento a favore o meno di un prezzo.\n",
    "\n",
    "L'ultima feature è **MiscFeature**, ovvero la feature che descrive elementi addizionali di una casa(ad es. Ascensore, Campo da Tennis, ...). Prendiamo nota di questa feature in quanto è presente una ulteriore feature (**MiscVal**) che esprime il valore totale di tutti gli elementi addizionali presenti. Anche qui verranno eseguite ulteriori analisi.\n"
   ]
  },
  {
   "cell_type": "markdown",
   "metadata": {},
   "source": [
    "##### Data Processing\n",
    "\n",
    "Cominciamo a lavorare sul dataset cominciando il preprocessing dei dati.\n",
    "E' necessaria una piccola digressione su come possono essere presentate le feature. Si distinguono feature categoriche(ovvero che sono espresse tramite stringhe) da quelle numeriche ed a loro volta le stesse si dividono in categoriche nominali(non sensibili all'ordinamento) e categoriche ordinali. Il nostro obiettivo è quello di trasformare tutte le feature categoriche in numeriche affinché il modello abbia dati in ingresso omogenei e possiamo confrontare tutte le feature tra di loro per scovare eventuali correlazioni o altro.\\\n",
    "Viene presentato ora un esempio di feature **categorica nominale** che indica la classificazione dell'immobile in base alla zona dove risiede:"
   ]
  },
  {
   "cell_type": "code",
   "execution_count": 50,
   "metadata": {},
   "outputs": [
    {
     "data": {
      "text/plain": [
       "2700    RL\n",
       "2121    RM\n",
       "2132    RM\n",
       "1931    RL\n",
       "827     RL\n",
       "        ..\n",
       "2487    RL\n",
       "1669    RL\n",
       "49      RL\n",
       "2675    RL\n",
       "2496    RL\n",
       "Name: MSZoning, Length: 2919, dtype: object"
      ]
     },
     "execution_count": 50,
     "metadata": {},
     "output_type": "execute_result"
    }
   ],
   "source": [
    "data[\"MSZoning\"]"
   ]
  },
  {
   "cell_type": "markdown",
   "metadata": {},
   "source": [
    "Viene ora presentato, invece, un esempio di feature **categoria ordinale** che indica la qualità dei materiali della casa da un minimo di 1 a un massimo di 10:"
   ]
  },
  {
   "cell_type": "code",
   "execution_count": 8,
   "metadata": {},
   "outputs": [
    {
     "data": {
      "text/plain": [
       "0       7\n",
       "1       6\n",
       "2       7\n",
       "3       7\n",
       "4       8\n",
       "       ..\n",
       "2914    4\n",
       "2915    4\n",
       "2916    5\n",
       "2917    5\n",
       "2918    7\n",
       "Name: OverallQual, Length: 2919, dtype: int64"
      ]
     },
     "execution_count": 8,
     "metadata": {},
     "output_type": "execute_result"
    }
   ],
   "source": [
    "data[\"OverallQual\"]"
   ]
  },
  {
   "cell_type": "markdown",
   "metadata": {},
   "source": [
    "Quanto segue è la trasformazione di tutte le feature del dataset in numeri e, contemporaneamente, gestione dei valori nulli(NaN) del dataset; sfrutteremo il **Label Encoder** andando a sovrascrivere la colonna della feature selezionata con il nuovo valore. Ovviamente per quanto riguarda le feature categoriche ordinali seguiamo un approccio che preservi l'ordine tramite dizionari con le scale definite da noi.\\\n",
    "Il Label Encoder fornisce una codifica univoca per ogni colonna di feature. \\\n",
    "L'idea è quella di quella di riempire tutti i valori nulli con una stringa speciale \"0000\" e di assegnargli valore 0 sia nelle categoriche ordinali che nominali. Per quanto riguarda le colonne che ospitavano degli interi faremo una sostituzione finale sostituendo la stringa \"0000\" in tutto il dataset con 0.\\\n",
    "In questo modo abbiamo gestito sia i valori nulli del dataset che le feature categoriche."
   ]
  },
  {
   "cell_type": "code",
   "execution_count": 51,
   "metadata": {},
   "outputs": [],
   "source": [
    "%%capture \n",
    "\n",
    "# Definizione delle feature categoriche nominali per richiamarle poi nel ciclo for\n",
    "\n",
    "categorical_nominal_features = [\"MSZoning\", \"Street\", \"Alley\", \"LotShape\", \"LandContour\", \"Utilities\", \"LotConfig\",\n",
    "                                \"LandSlope\", \"Neighborhood\", \"Condition1\", \"Condition2\", \"BldgType\", \"HouseStyle\",\n",
    "                                \"RoofStyle\", \"RoofMatl\", \"Exterior1st\", \"Exterior2nd\",\n",
    "                                \"MasVnrType\", \"Foundation\", \"Heating\", \"CentralAir\", \"Electrical\",\n",
    "                                \"Functional\", \"GarageType\", \"PavedDrive\", \"MiscFeature\", \"SaleType\",\n",
    "                                \"SaleCondition\"]\n",
    "\n",
    "# Definizione delle feature categoriche ordinali per richiamarle poi nel ciclo for\n",
    "\n",
    "categorical_ordinal_features = [\n",
    "    \"ExterQual\", \"ExterCond\", \"BsmtQual\", \"BsmtCond\", \"HeatingQC\", \"KitchenQual\", \"FireplaceQu\", \"GarageQual\",\n",
    "    \"GarageCond\", \"PoolQC\", \"BsmtExposure\", \"BsmtFinType1\", \"BsmtFinType2\", \"GarageFinish\", \"Fence\"\n",
    "]\n",
    "\n",
    "# Scrittura delle scale differenti presenti nel dataset(prese dalla descrizione dei dati)\n",
    "\n",
    "quality_scale_dict = {\"0000\":0, \"NA\": 0, \"Po\": 1, \"Fa\": 2, \"TA\": 3, \"Gd\": 4, \"Ex\": 5}\n",
    "BstmExposure_dict = {\"0000\":0, \"NA\": 0, \"No\": 1, \"Mn\": 2, \"Av\": 3, \"Gd\": 4}\n",
    "BsmtFinType_dict = {\"0000\":0, \"NA\": 0, \"Unf\": 1, \"LwQ\": 2, \"Rec\": 3, \"BLQ\": 4, \"ALQ\": 5, \"GLQ\": 6}\n",
    "GarageFinish_dict = {\"0000\":0, \"NA\": 0, \"Unf\": 1, \"RFn\": 2, \"Fin\": 3}\n",
    "Fence_dict = {\"0000\":0, \"NA\": 0, \"MnWw\": 1, \"GdWo\": 2, \"MnPrv\": 3, \"GdPrv\": 4}\n",
    "\n",
    "# Assegnazione delle scale alle feature(secondo la descrizione dei dati)\n",
    "\n",
    "feature_scale_dict = {\n",
    "    \"ExterQual\": quality_scale_dict,\n",
    "    \"ExterCond\": quality_scale_dict,\n",
    "    \"BsmtQual\": quality_scale_dict,\n",
    "    \"BsmtCond\": quality_scale_dict,\n",
    "    \"HeatingQC\": quality_scale_dict,\n",
    "    \"KitchenQual\": quality_scale_dict,\n",
    "    \"FireplaceQu\": quality_scale_dict,\n",
    "    \"GarageQual\": quality_scale_dict,\n",
    "    \"GarageCond\": quality_scale_dict,\n",
    "    \"PoolQC\": quality_scale_dict,\n",
    "    \"BsmtExposure\": BstmExposure_dict,\n",
    "    \"BsmtFinType1\": BsmtFinType_dict,\n",
    "    \"BsmtFinType2\": BsmtFinType_dict,\n",
    "    \"GarageFinish\": GarageFinish_dict,\n",
    "    \"Fence\": Fence_dict\n",
    "}\n",
    "\n",
    "data.fillna(\"0000\", inplace=True) # Replace dei valori nulli con una stringa speciale che non è presente nel dataset\n",
    "\n",
    "# Trasformazione tramite LabelEncoder delle feature categoriche nominali\n",
    "\n",
    "le = LabelEncoder()\n",
    "\n",
    "for feature in categorical_nominal_features:\n",
    "    le.fit(data[feature])\n",
    "    data[feature] = le.transform(data[feature])\n",
    "\n",
    "# Trasformazione tramite apply rispetto il dizionario prima creato\n",
    "\n",
    "for feature in categorical_ordinal_features:\n",
    "    dict = feature_scale_dict[feature]\n",
    "    data[feature] = data[feature].apply(lambda x: dict[x])\n",
    "\n",
    "\n",
    "data.replace(\"0000\", 0, inplace=True) # Replace finale per gestire colonne dove sono finite le stringhe speciali\n",
    "\n"
   ]
  },
  {
   "cell_type": "markdown",
   "metadata": {},
   "source": [
    "### Modelli pre-feature engineering\n",
    "\n",
    "In questa sezione verranno mostrati i risultati dei seguenti modelli(tramite 5-fold cross validation) sulle feature non ingegnerizzate:\n",
    "- Linear Regression (baseline)\n",
    "- Decision Tree\n",
    "- Begging\n",
    "- Gradient Boosting\n",
    "- Random Forest\n",
    "- KNN (non-parametric)\n",
    "\n",
    "L'obiettivo sarà quello di confrontare l'evoluzione dei risultati post elaborazione delle feature. \\\n",
    "Il primo passo è quello di splittare il dataset in train e testset.\n"
   ]
  },
  {
   "cell_type": "code",
   "execution_count": 52,
   "metadata": {},
   "outputs": [],
   "source": [
    "# Separazione del target dal dataset\n",
    "\n",
    "X_train = data.drop([\"SalePrice\"], axis=1) #drop dalle colonne\n",
    "Y_train = data[\"SalePrice\"].values\n",
    "\n",
    "#X_train, X_test, Y_train, Y_test = train_test_split(X_train, Y_train, test_size=0.20)\n",
    "\n"
   ]
  },
  {
   "cell_type": "markdown",
   "metadata": {},
   "source": [
    "##### Linear Regression"
   ]
  },
  {
   "cell_type": "code",
   "execution_count": 53,
   "metadata": {},
   "outputs": [
    {
     "data": {
      "text/plain": [
       "<matplotlib.collections.PathCollection at 0x1ddea559af0>"
      ]
     },
     "execution_count": 53,
     "metadata": {},
     "output_type": "execute_result"
    },
    {
     "data": {
      "text/plain": [
       "[<matplotlib.lines.Line2D at 0x1ddea1129d0>]"
      ]
     },
     "execution_count": 53,
     "metadata": {},
     "output_type": "execute_result"
    },
    {
     "data": {
      "text/plain": [
       "Text(0.5, 0, 'Measured')"
      ]
     },
     "execution_count": 53,
     "metadata": {},
     "output_type": "execute_result"
    },
    {
     "data": {
      "text/plain": [
       "Text(0, 0.5, 'Predicted')"
      ]
     },
     "execution_count": 53,
     "metadata": {},
     "output_type": "execute_result"
    },
    {
     "data": {
      "image/png": "[encoded data removed]",
      "text/plain": [
       "<Figure size 432x288 with 1 Axes>"
      ]
     },
     "metadata": {
      "needs_background": "light"
     },
     "output_type": "display_data"
    },
    {
     "name": "stdout",
     "output_type": "stream",
     "text": [
      "0.44879502028914275\n"
     ]
    }
   ],
   "source": [
    "model1 = LinearRegression()\n",
    "folds = KFold(n_splits = 5, shuffle = True, random_state = 98)\n",
    "scores = cross_val_score(model1, X_train, Y_train, scoring='r2', cv=folds)\n",
    "lin_predict = cross_val_predict(model1, X_train, Y_train, cv=5)\n",
    "\n",
    "# Plot \n",
    "\n",
    "fig,  ax = plt.subplots()\n",
    "ax.scatter(Y_train, lin_predict, edgecolors=(0,0,0))\n",
    "ax.plot([Y_train.min(), Y_train.max()], [Y_train.min(), Y_train.max()], 'k--', lw=3)\n",
    "ax.set_xlabel('Measured')\n",
    "ax.set_ylabel('Predicted')\n",
    "plt.show()\n",
    "\n",
    "#####\n",
    "avg_score = np.mean(scores)\n",
    "print(avg_score)\n"
   ]
  },
  {
   "cell_type": "markdown",
   "metadata": {},
   "source": [
    "##### Decision Tree"
   ]
  },
  {
   "cell_type": "markdown",
   "metadata": {},
   "source": [
    "Per quanto riguarda gli alberi di decisione decidiamo di usare le cross-fold validation per trovare l'iperparametro migliore per quanto riguarda la massima profondità degli stessi."
   ]
  },
  {
   "cell_type": "code",
   "execution_count": 71,
   "metadata": {},
   "outputs": [
    {
     "name": "stdout",
     "output_type": "stream",
     "text": [
      "Fitting 5 folds for each of 28 candidates, totalling 140 fits\n"
     ]
    },
    {
     "data": {
      "text/plain": [
       "GridSearchCV(cv=KFold(n_splits=5, random_state=98, shuffle=True),\n",
       "             estimator=DecisionTreeRegressor(random_state=42),\n",
       "             param_grid={'max_depth': [2, 3, 4, 5, 6, 7, 8, 9, 10, 11, 12, 13,\n",
       "                                       14, 15, 16, 17, 18, 19, 20, 21, 22, 23,\n",
       "                                       24, 25, 26, 27, 28, 29]},\n",
       "             verbose=1)"
      ]
     },
     "execution_count": 71,
     "metadata": {},
     "output_type": "execute_result"
    },
    {
     "data": {
      "text/plain": [
       "DecisionTreeRegressor(max_depth=16, random_state=42)"
      ]
     },
     "execution_count": 71,
     "metadata": {},
     "output_type": "execute_result"
    }
   ],
   "source": [
    "params = {'max_depth': list(range(2,30))}\n",
    "gscv = GridSearchCV(DecisionTreeRegressor(random_state = 42), params, verbose=1, cv = folds)\n",
    "\n",
    "gscv.fit(X_train, Y_train)\n",
    "\n",
    "gscv.best_estimator_\n"
   ]
  },
  {
   "cell_type": "code",
   "execution_count": 72,
   "metadata": {},
   "outputs": [
    {
     "data": {
      "text/plain": [
       "0.7516177008348015"
      ]
     },
     "execution_count": 72,
     "metadata": {},
     "output_type": "execute_result"
    }
   ],
   "source": [
    "dt = DecisionTreeRegressor(random_state=42, max_depth=16, criterion='mse')\n",
    "dt_fit = dt.fit(X_train, Y_train)\n",
    "\n",
    "dt_scores = cross_val_score(dt_fit, X_train, Y_train, cv=folds)\n",
    "avg_score_dt = np.mean(dt_scores)\n",
    "avg_score_dt"
   ]
  },
  {
   "cell_type": "markdown",
   "metadata": {},
   "source": [
    "##### Bagging"
   ]
  },
  {
   "cell_type": "code",
   "execution_count": 76,
   "metadata": {},
   "outputs": [
    {
     "name": "stdout",
     "output_type": "stream",
     "text": [
      "Fitting 5 folds for each of 13 candidates, totalling 65 fits\n"
     ]
    },
    {
     "data": {
      "text/plain": [
       "GridSearchCV(cv=KFold(n_splits=5, random_state=98, shuffle=True),\n",
       "             estimator=BaggingRegressor(random_state=42),\n",
       "             param_grid={'n_estimators': [2, 3, 4, 5, 6, 7, 8, 9, 10, 11, 12,\n",
       "                                          13, 14]},\n",
       "             verbose=1)"
      ]
     },
     "execution_count": 76,
     "metadata": {},
     "output_type": "execute_result"
    },
    {
     "data": {
      "text/plain": [
       "BaggingRegressor(n_estimators=14, random_state=42)"
      ]
     },
     "execution_count": 76,
     "metadata": {},
     "output_type": "execute_result"
    }
   ],
   "source": [
    "params1 = {'n_estimators': list(range(2,15))}\n",
    "gscv1 = GridSearchCV(BaggingRegressor(random_state = 42), params1, verbose=1, cv = folds)\n",
    "\n",
    "gscv1.fit(X_train, Y_train)\n",
    "\n",
    "gscv1.best_estimator_"
   ]
  },
  {
   "cell_type": "code",
   "execution_count": 83,
   "metadata": {},
   "outputs": [
    {
     "data": {
      "text/plain": [
       "0.8636748806147343"
      ]
     },
     "execution_count": 83,
     "metadata": {},
     "output_type": "execute_result"
    }
   ],
   "source": [
    "bag_regr = BaggingRegressor(random_state=42, n_estimators=100)\n",
    "bag_regr_scores = cross_val_score(bag_regr, X_train, Y_train, cv=folds)\n",
    "avg_score_bag_regr = np.mean(bag_regr_scores)\n",
    "avg_score_bag_regr"
   ]
  },
  {
   "cell_type": "markdown",
   "metadata": {},
   "source": [
    "##### Gradient Boosting"
   ]
  },
  {
   "cell_type": "code",
   "execution_count": 80,
   "metadata": {},
   "outputs": [
    {
     "name": "stdout",
     "output_type": "stream",
     "text": [
      "Fitting 5 folds for each of 98 candidates, totalling 490 fits\n"
     ]
    },
    {
     "data": {
      "text/plain": [
       "GridSearchCV(cv=KFold(n_splits=5, random_state=98, shuffle=True),\n",
       "             estimator=GradientBoostingRegressor(random_state=42),\n",
       "             param_grid={'n_estimators': [2, 3, 4, 5, 6, 7, 8, 9, 10, 11, 12,\n",
       "                                          13, 14, 15, 16, 17, 18, 19, 20, 21,\n",
       "                                          22, 23, 24, 25, 26, 27, 28, 29, 30,\n",
       "                                          31, ...]},\n",
       "             verbose=1)"
      ]
     },
     "execution_count": 80,
     "metadata": {},
     "output_type": "execute_result"
    },
    {
     "data": {
      "text/plain": [
       "GradientBoostingRegressor(n_estimators=99, random_state=42)"
      ]
     },
     "execution_count": 80,
     "metadata": {},
     "output_type": "execute_result"
    }
   ],
   "source": [
    "params2 = {'n_estimators': list(range(2,100))}\n",
    "gscv2 = GridSearchCV(GradientBoostingRegressor(random_state = 42), params2, verbose=1, cv = folds)\n",
    "\n",
    "gscv2.fit(X_train, Y_train)\n",
    "\n",
    "gscv2.best_estimator_"
   ]
  },
  {
   "cell_type": "code",
   "execution_count": 84,
   "metadata": {},
   "outputs": [
    {
     "data": {
      "text/plain": [
       "0.8542973407577719"
      ]
     },
     "execution_count": 84,
     "metadata": {},
     "output_type": "execute_result"
    }
   ],
   "source": [
    "grad_regr = GradientBoostingRegressor(random_state=42, n_estimators=100)\n",
    "grad_regr_scores = cross_val_score(grad_regr, X_train, Y_train, cv=folds)\n",
    "avg_score_grad_regr = np.mean(grad_regr_scores)\n",
    "avg_score_grad_regr"
   ]
  },
  {
   "cell_type": "markdown",
   "metadata": {},
   "source": [
    "##### Random Forest"
   ]
  },
  {
   "cell_type": "code",
   "execution_count": 87,
   "metadata": {},
   "outputs": [
    {
     "data": {
      "text/plain": [
       "0.8631828756590046"
      ]
     },
     "execution_count": 87,
     "metadata": {},
     "output_type": "execute_result"
    }
   ],
   "source": [
    "forest_regr = RandomForestRegressor(random_state=42, n_estimators=100)\n",
    "forest_regr_scores = cross_val_score(forest_regr, X_train, Y_train, cv=folds)\n",
    "avg_score_forest_regr = np.mean(forest_regr_scores)\n",
    "avg_score_forest_regr"
   ]
  },
  {
   "cell_type": "markdown",
   "metadata": {},
   "source": [
    "##### K Nearest Neighbors"
   ]
  },
  {
   "cell_type": "code",
   "execution_count": 98,
   "metadata": {},
   "outputs": [
    {
     "data": {
      "text/plain": [
       "0.5813935228360796"
      ]
     },
     "execution_count": 98,
     "metadata": {},
     "output_type": "execute_result"
    }
   ],
   "source": [
    "knn_regr = KNeighborsRegressor(n_neighbors=5)\n",
    "knn_regr_scores = cross_val_score(knn_regr, X_train, Y_train, cv=folds)\n",
    "avg_score_knn_regr = np.mean(knn_regr_scores)\n",
    "avg_score_knn_regr"
   ]
  },
  {
   "cell_type": "markdown",
   "metadata": {},
   "source": [
    "#### Correlazione tra feature\n",
    "\n",
    "In questa parte faremo un'analisi rispetto alla correlazione tra feature per trovare eventuali feature collimabili.\n",
    "\n",
    "L'idea è quella di creare una matrice di correlazione ed impostare una certa soglia affinché le feature sopra la stessa possano essere collimate secondo qualche logica."
   ]
  },
  {
   "cell_type": "code",
   "execution_count": 104,
   "metadata": {},
   "outputs": [
    {
     "data": {
      "text/plain": [
       "['YearBuilt and GarageYrBlt',\n",
       " 'Exterior1st and Exterior2nd',\n",
       " 'BsmtFinType1 and BsmtFinSF1',\n",
       " 'BsmtFinType2 and BsmtFinSF2',\n",
       " 'TotalBsmtSF and 1stFlrSF',\n",
       " 'GrLivArea and TotRmsAbvGrd',\n",
       " 'Fireplaces and FireplaceQu',\n",
       " 'GarageCars and GarageArea',\n",
       " 'PoolArea and PoolQC',\n",
       " 'MiscFeature and MiscVal']"
      ]
     },
     "execution_count": 104,
     "metadata": {},
     "output_type": "execute_result"
    }
   ],
   "source": [
    "\n",
    "corr = data.corr(method=\"spearman\") # Creazione della matrice di correlazione\n",
    "corr.style.background_gradient(cmap='coolwarm').to_html('Correlation.html') # Export della matrice di correlazione\n",
    "\n",
    "\n",
    "soglia0 = .60\n",
    "soglia1 = .70\n",
    "soglia2 = .80\n",
    "soglia3 = .90\n",
    "     \n",
    "# Ricerca di valori maggiori di una certa soglia rispetto la matrice\n",
    "\n",
    "#[f\"{corr.columns[i]} and {corr.columns[j]}\" for i, j in zip(*np.where(np.abs(corr.values) >= soglia0)) if i < j]\n",
    "#[f\"{corr.columns[i]} and {corr.columns[j]}\" for i, j in zip(*np.where(np.abs(corr.values) >= soglia1)) if i < j]\n",
    "[f\"{corr.columns[i]} and {corr.columns[j]}\" for i, j in zip(*np.where(np.abs(corr.values) >= soglia2)) if i < j]\n",
    "#[f\"{corr.columns[i]} and {corr.columns[j]}\" for i, j in zip(*np.where(np.abs(corr.values) >= soglia3)) if i < j]\n"
   ]
  },
  {
   "cell_type": "markdown",
   "metadata": {},
   "source": [
    "Le due feature **YearBuilt** e **GarageYrBlt** sono decisamente collimabili a favore della prima, nella maggior parte dei casi ci si aspetta che il garage sia stato costruito lo stesso anno della casa e comunque, anche se così non fosse, non è una situazione che fornisce peso importante al prezzo finale di vendita."
   ]
  },
  {
   "cell_type": "code",
   "execution_count": 107,
   "metadata": {},
   "outputs": [],
   "source": [
    "%%capture\n",
    "\n",
    "data.drop(labels = \"GarageYrBlt\", axis = 1)"
   ]
  },
  {
   "cell_type": "code",
   "execution_count": null,
   "metadata": {},
   "outputs": [],
   "source": []
  },
  {
   "cell_type": "code",
   "execution_count": null,
   "metadata": {},
   "outputs": [],
   "source": []
  },
  {
   "cell_type": "code",
   "execution_count": null,
   "metadata": {},
   "outputs": [],
   "source": []
  },
  {
   "cell_type": "code",
   "execution_count": null,
   "metadata": {},
   "outputs": [],
   "source": []
  }
 ],
 "metadata": {
  "interpreter": {
   "hash": "6c7f3514aa64bff2050be46dd126600a182e852c5c9d7f0c8c07ad90dc295c52"
  },
  "kernelspec": {
   "display_name": "Python 3.9.7 ('base')",
   "language": "python",
   "name": "python3"
  },
  "language_info": {
   "codemirror_mode": {
    "name": "ipython",
    "version": 3
   },
   "file_extension": ".py",
   "mimetype": "text/x-python",
   "name": "python",
   "nbconvert_exporter": "python",
   "pygments_lexer": "ipython3",
   "version": "3.9.7"
  },
  "orig_nbformat": 4
 },
 "nbformat": 4,
 "nbformat_minor": 2
}
