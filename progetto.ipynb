{
  "cells": [
    {
      "cell_type": "markdown",
      "metadata": {
        "id": "pmLduaKmg-WT"
      },
      "source": [
        "# Introduzione\n",
        "\n",
        "Quanto segue è la realizzazione del progetto \"House Prices Advanced Regression Techniques\" prodotta da *Paolo Ciasco* & *Lorenzo Mancino*. Il work-flow deciso aprirà con un parte di feature engineering per poi testare vari modelli di apprendimento studiati all'interno del corso.\n",
        "<!-- TBD -->\n",
        "\n"
      ]
    },
    {
      "cell_type": "markdown",
      "metadata": {
        "id": "xovvF5tjg-WX"
      },
      "source": [
        "### Librerie Utilizzate"
      ]
    },
    {
      "cell_type": "code",
      "execution_count": 1,
      "metadata": {
        "id": "BDynEFKBg-WX"
      },
      "outputs": [],
      "source": [
        "import pandas as pd\n",
        "import numpy as np\n",
        "import missingno as msno\n",
        "import matplotlib.pyplot as plt\n",
        "import seaborn as sns\n",
        "from sklearn.preprocessing import LabelEncoder\n",
        "from IPython.core.interactiveshell import InteractiveShell\n",
        "InteractiveShell.ast_node_interactivity = \"all\" # Display multipli in fase di output"
      ]
    },
    {
      "cell_type": "code",
      "execution_count": 36,
      "metadata": {
        "id": "sUpgzWGyg-WY"
      },
      "outputs": [],
      "source": [
        "from sklearn.linear_model import LinearRegression\n",
        "from sklearn.tree import DecisionTreeRegressor\n",
        "from sklearn.ensemble import BaggingRegressor\n",
        "from sklearn.ensemble import GradientBoostingRegressor\n",
        "from sklearn.ensemble import RandomForestRegressor\n",
        "from sklearn.neighbors import KNeighborsRegressor\n",
        "from sklearn.model_selection import GridSearchCV\n",
        "from sklearn.model_selection import train_test_split\n",
        "from sklearn.model_selection import cross_val_score\n",
        "from sklearn.model_selection import cross_val_predict\n",
        "from sklearn.model_selection import KFold\n",
        "\n",
        "from sklearn.feature_selection import SequentialFeatureSelector as SFS\n",
        "from sklearn.feature_selection import RFE\n",
        "from sklearn.pipeline import Pipeline\n",
        "from sklearn.model_selection import cross_validate"
      ]
    },
    {
      "cell_type": "markdown",
      "metadata": {
        "id": "wgAzfZ_kg-WZ"
      },
      "source": [
        "### Dati a Disposizione\n",
        "\n",
        "Essendo una competizione di Kaggle e non essendo il nostro scopo partecipare ad essa abbiamo dovuto sistemare i dati a disposizione affinché avessimo un dataset consistente e propedeutico al nostro scopo. I dati forniti da Kaggle, infatti, sono costruiti affinché tutte le persone possano concorrere su uno stesso testset con i target dello stesso inseriti in un ulteriore file .csv. Il nostro lavoro è stato di unire il train ed il testset (riportando i target nello stesso) per generare un unico dataset su cui ci concentreremo."
      ]
    },
    {
      "cell_type": "code",
      "execution_count": 37,
      "metadata": {
        "id": "98_1TDkHg-WZ"
      },
      "outputs": [],
      "source": [
        "train_set = pd.read_csv(\"./train.csv\") # Caricamento del trainset\n",
        "test_set = pd.read_csv(\"./test.csv\") # Caricamento del testset\n",
        "target_set = pd.read_csv(\"./sample_submission.csv\") # Caricamento del file ove sono presenti i target\n",
        "\n",
        "SalePrice = target_set.SalePrice # Selezione della colonna dei target\n",
        "#test_set = test_set.join(SalePrice) # Immissione della colonna dei target nel testset\n",
        "#test_set.to_csv('test.csv', index=False) # Sovrascrittura del testset con quello sistemato\n",
        "\n",
        "# Unione del testset sistemato con il trainset\n",
        "\n",
        "data_support = pd.read_csv('test.csv')\n",
        "frames = [train_set, data_support]\n",
        "final = pd.concat(frames)\n",
        "final.to_csv('dataset.csv', index=False) # Export del file\n",
        "\n",
        "# Caricamento del dataset ottenuto\n",
        "\n",
        "data = pd.read_csv('dataset.csv')\n",
        "\n",
        "data = data.sample(frac = 1)\n"
      ]
    },
    {
      "cell_type": "markdown",
      "metadata": {
        "id": "eSNuN9Gag-Wa"
      },
      "source": [
        "### Analisi Dei Dati\n",
        "\n",
        "Viene effettuata ora un'analisi dei dati per vedere cosa abbiamo a disposizione per svolgere il task: fare regressione sul prezzo delle case."
      ]
    },
    {
      "cell_type": "markdown",
      "metadata": {
        "id": "0OwCkC_lg-Wb"
      },
      "source": [
        "Come prima cosa si mostra con quanti elementi stiamo lavorando ed il numero delle feature fornite."
      ]
    },
    {
      "cell_type": "code",
      "execution_count": null,
      "metadata": {
        "id": "WQPcHwBIg-Wb",
        "outputId": "df9e4758-b0a2-436d-9352-352c9cf06429"
      },
      "outputs": [
        {
          "data": {
            "text/html": [
              "<div>\n",
              "<style scoped>\n",
              "    .dataframe tbody tr th:only-of-type {\n",
              "        vertical-align: middle;\n",
              "    }\n",
              "\n",
              "    .dataframe tbody tr th {\n",
              "        vertical-align: top;\n",
              "    }\n",
              "\n",
              "    .dataframe thead th {\n",
              "        text-align: right;\n",
              "    }\n",
              "</style>\n",
              "<table border=\"1\" class=\"dataframe\">\n",
              "  <thead>\n",
              "    <tr style=\"text-align: right;\">\n",
              "      <th></th>\n",
              "      <th>Id</th>\n",
              "      <th>MSSubClass</th>\n",
              "      <th>MSZoning</th>\n",
              "      <th>LotFrontage</th>\n",
              "      <th>LotArea</th>\n",
              "    </tr>\n",
              "  </thead>\n",
              "  <tbody>\n",
              "    <tr>\n",
              "      <th>2700</th>\n",
              "      <td>2701</td>\n",
              "      <td>60</td>\n",
              "      <td>RL</td>\n",
              "      <td>NaN</td>\n",
              "      <td>9019</td>\n",
              "    </tr>\n",
              "    <tr>\n",
              "      <th>2121</th>\n",
              "      <td>2122</td>\n",
              "      <td>50</td>\n",
              "      <td>RM</td>\n",
              "      <td>52.0</td>\n",
              "      <td>6240</td>\n",
              "    </tr>\n",
              "    <tr>\n",
              "      <th>2132</th>\n",
              "      <td>2133</td>\n",
              "      <td>30</td>\n",
              "      <td>RM</td>\n",
              "      <td>60.0</td>\n",
              "      <td>7200</td>\n",
              "    </tr>\n",
              "    <tr>\n",
              "      <th>1931</th>\n",
              "      <td>1932</td>\n",
              "      <td>60</td>\n",
              "      <td>RL</td>\n",
              "      <td>62.0</td>\n",
              "      <td>10429</td>\n",
              "    </tr>\n",
              "    <tr>\n",
              "      <th>827</th>\n",
              "      <td>828</td>\n",
              "      <td>20</td>\n",
              "      <td>RL</td>\n",
              "      <td>65.0</td>\n",
              "      <td>8529</td>\n",
              "    </tr>\n",
              "  </tbody>\n",
              "</table>\n",
              "</div>"
            ],
            "text/plain": [
              "        Id  MSSubClass MSZoning  LotFrontage  LotArea\n",
              "2700  2701          60       RL          NaN     9019\n",
              "2121  2122          50       RM         52.0     6240\n",
              "2132  2133          30       RM         60.0     7200\n",
              "1931  1932          60       RL         62.0    10429\n",
              "827    828          20       RL         65.0     8529"
            ]
          },
          "execution_count": 48,
          "metadata": {},
          "output_type": "execute_result"
        },
        {
          "data": {
            "text/plain": [
              "(2919, 81)"
            ]
          },
          "execution_count": 48,
          "metadata": {},
          "output_type": "execute_result"
        },
        {
          "data": {
            "text/html": [
              "<div>\n",
              "<style scoped>\n",
              "    .dataframe tbody tr th:only-of-type {\n",
              "        vertical-align: middle;\n",
              "    }\n",
              "\n",
              "    .dataframe tbody tr th {\n",
              "        vertical-align: top;\n",
              "    }\n",
              "\n",
              "    .dataframe thead th {\n",
              "        text-align: right;\n",
              "    }\n",
              "</style>\n",
              "<table border=\"1\" class=\"dataframe\">\n",
              "  <thead>\n",
              "    <tr style=\"text-align: right;\">\n",
              "      <th></th>\n",
              "      <th>SalePrice</th>\n",
              "    </tr>\n",
              "  </thead>\n",
              "  <tbody>\n",
              "    <tr>\n",
              "      <th>2121</th>\n",
              "      <td>162690.209132</td>\n",
              "    </tr>\n",
              "    <tr>\n",
              "      <th>2132</th>\n",
              "      <td>163474.633393</td>\n",
              "    </tr>\n",
              "  </tbody>\n",
              "</table>\n",
              "</div>"
            ],
            "text/plain": [
              "          SalePrice\n",
              "2121  162690.209132\n",
              "2132  163474.633393"
            ]
          },
          "execution_count": 48,
          "metadata": {},
          "output_type": "execute_result"
        }
      ],
      "source": [
        "data.iloc[0:5, 0:5] # Porzione di dataframe\n",
        "\n",
        "data.shape # Mostra le righe e le colonne del dataframe\n",
        "\n",
        "data.iloc[1:3, 80:81] # Locazione del target"
      ]
    },
    {
      "cell_type": "markdown",
      "metadata": {
        "id": "bmstLzFDg-Wd"
      },
      "source": [
        "Il dataset fornito raccoglie $2919$ elementi e $81$ feature (includendo anche il target come 81esima feature). I dati forniti, inoltre, forniscono un utilissimo file .txt che descrive rapidamente le feature utilizzate."
      ]
    },
    {
      "cell_type": "markdown",
      "metadata": {
        "id": "09RUDEk8g-Wd"
      },
      "source": [
        "Non essendo il dataset eccessivamente popolato, sebbene non verranno usate Neural Network, si decide di sfruttare la k-fold validation.\n",
        "Essendo le feature un numero veramente elevato per una regressione del prezzo di una casa si decide di attuare la cosidetta Feature Engineering. "
      ]
    },
    {
      "cell_type": "markdown",
      "metadata": {
        "id": "69cwje6fg-Wd"
      },
      "source": [
        "### Feature Engineering\n",
        "\n",
        "Come prima cosa si controlla l'eventuale assenza completa di dati in qualche colonna"
      ]
    },
    {
      "cell_type": "code",
      "execution_count": null,
      "metadata": {
        "id": "5XX7VNPBg-Wd"
      },
      "outputs": [],
      "source": [
        "# Iterazione su tutte le colonne per controllare l'eventuale presenza di valori nulli su tutta l'intera colonna\n",
        "\n",
        "for i in data.columns:\n",
        "    if data[i].isnull().all():\n",
        "        print(data[i])\n",
        "    "
      ]
    },
    {
      "cell_type": "markdown",
      "metadata": {
        "id": "JYzRBw0Bg-We"
      },
      "source": [
        "Sfruttando la libreria *missingno* vogliamo mostrare una matrice di valori mancanti per trovare eventuali feature poco popolate su cui fare un'analisi ulteriore."
      ]
    },
    {
      "cell_type": "code",
      "execution_count": null,
      "metadata": {
        "id": "HMusGx0-g-We",
        "outputId": "ab96895c-0945-4e70-8cb7-c88dcf7585ba"
      },
      "outputs": [
        {
          "data": {
            "text/plain": [
              "<AxesSubplot:>"
            ]
          },
          "execution_count": 49,
          "metadata": {},
          "output_type": "execute_result"
        },
        {
          "data": {
            "image/png": "[encoded data removed]",
            "text/plain": [
              "<Figure size 1800x720 with 2 Axes>"
            ]
          },
          "metadata": {
            "needs_background": "light"
          },
          "output_type": "display_data"
        }
      ],
      "source": [
        "msno.matrix(data, labels=True, fontsize=8, color = (0.12,0.25,0.34))\n"
      ]
    },
    {
      "cell_type": "markdown",
      "metadata": {
        "id": "na1W32pSg-We"
      },
      "source": [
        "La prima feature che notiamo essere poco popolata è **Alley**, ovvero (seguendo le istruzioni fornite come specificato poco prima) la feature riguardante l'ingresso o meno da dei vicoli e, se presente, il materiale usato per lo stesso. In questo caso non è salutare eliminare direttamente la feature perché in realta i valori mancanti indicano il fatto che la casa non ha ingressi da vicoli che, in un ipotetico prezzo finale, è una caratteristica che è rilevante. Riguardo questo, utilizzeremo un metodo per \"fillare\" i valori nulli in modo tale che l'informazione venga preservata.\n",
        "\n",
        "La seconda feature che coglie la nostra attenzione è **FireplaceQu**, ovvero la feature che esprime la qualità del camino se presente. Qui, a differenza di prima, ci annotiamo questa feature come potenzialmente \"inutile\" perchè è presente una ulteriore feature (**Fireplaces**) che descrive il numero di camini presenti nella casa. Sfrutteremo in seguito un'analisi di correlazione per confermare o meno questa ipotesi.\n",
        "\n",
        "La terza feature che vediamo essere poco popolata è **PoolQC**, ovvero la feature che rappresenta la qualità della piscina se presente. Anche qui la feature viene memorizzata perché presente un'altra feature (**PoolArea**) che esprime i metri quadri della piscina. Ulteriori analisi e ragionamenti in seguito all'analisi di correlazione.\n",
        "\n",
        "La quarta feature interessante è **Fence**, ovvero la feature che esprime la presenza o meno di una recizione e, se presente,la sua qualità. Come nel primo caso non possiamo ragionare su questa feature in quanto la presenza di una recizione è sicuramente un elemento a favore o meno di un prezzo.\n",
        "\n",
        "L'ultima feature è **MiscFeature**, ovvero la feature che descrive elementi addizionali di una casa(ad es. Ascensore, Campo da Tennis, ...). Prendiamo nota di questa feature in quanto è presente una ulteriore feature (**MiscVal**) che esprime il valore totale di tutti gli elementi addizionali presenti. Anche qui verranno eseguite ulteriori analisi.\n"
      ]
    },
    {
      "cell_type": "markdown",
      "metadata": {
        "id": "i_-ArV4Sg-Wf"
      },
      "source": [
        "##### Data Processing\n",
        "\n",
        "Cominciamo a lavorare sul dataset cominciando il preprocessing dei dati.\n",
        "E' necessaria una piccola digressione su come possono essere presentate le feature. Si distinguono feature categoriche(ovvero che sono espresse tramite stringhe) da quelle numeriche ed a loro volta le stesse si dividono in categoriche nominali(non sensibili all'ordinamento) e categoriche ordinali. Il nostro obiettivo è quello di trasformare tutte le feature categoriche in numeriche affinché il modello abbia dati in ingresso omogenei e possiamo confrontare tutte le feature tra di loro per scovare eventuali correlazioni o altro.\\\n",
        "Viene presentato ora un esempio di feature **categorica nominale** che indica la classificazione dell'immobile in base alla zona dove risiede:"
      ]
    },
    {
      "cell_type": "code",
      "execution_count": null,
      "metadata": {
        "id": "kG3n-tUVg-Wf",
        "outputId": "2a57ae00-f550-4475-f584-60ce523ea248"
      },
      "outputs": [
        {
          "data": {
            "text/plain": [
              "2700    RL\n",
              "2121    RM\n",
              "2132    RM\n",
              "1931    RL\n",
              "827     RL\n",
              "        ..\n",
              "2487    RL\n",
              "1669    RL\n",
              "49      RL\n",
              "2675    RL\n",
              "2496    RL\n",
              "Name: MSZoning, Length: 2919, dtype: object"
            ]
          },
          "execution_count": 50,
          "metadata": {},
          "output_type": "execute_result"
        }
      ],
      "source": [
        "data[\"MSZoning\"]"
      ]
    },
    {
      "cell_type": "markdown",
      "metadata": {
        "id": "PHimS3a0g-Wf"
      },
      "source": [
        "Viene ora presentato, invece, un esempio di feature **categoria ordinale** che indica la qualità dei materiali della casa da un minimo di 1 a un massimo di 10:"
      ]
    },
    {
      "cell_type": "code",
      "execution_count": null,
      "metadata": {
        "id": "VLFbmiv9g-Wf",
        "outputId": "70ffb5ac-174f-489c-f356-589beab828de"
      },
      "outputs": [
        {
          "data": {
            "text/plain": [
              "0       7\n",
              "1       6\n",
              "2       7\n",
              "3       7\n",
              "4       8\n",
              "       ..\n",
              "2914    4\n",
              "2915    4\n",
              "2916    5\n",
              "2917    5\n",
              "2918    7\n",
              "Name: OverallQual, Length: 2919, dtype: int64"
            ]
          },
          "execution_count": 8,
          "metadata": {},
          "output_type": "execute_result"
        }
      ],
      "source": [
        "data[\"OverallQual\"]"
      ]
    },
    {
      "cell_type": "markdown",
      "metadata": {
        "id": "OvUn_tlLg-Wg"
      },
      "source": [
        "Quanto segue è la trasformazione di tutte le feature del dataset in numeri e, contemporaneamente, gestione dei valori nulli(NaN) del dataset; sfrutteremo il **Label Encoder** andando a sovrascrivere la colonna della feature selezionata con il nuovo valore. Ovviamente per quanto riguarda le feature categoriche ordinali seguiamo un approccio che preservi l'ordine tramite dizionari con le scale definite da noi.\\\n",
        "Il Label Encoder fornisce una codifica univoca per ogni colonna di feature. \\\n",
        "L'idea è quella di quella di riempire tutti i valori nulli con una stringa speciale \"0000\" e di assegnargli valore 0 sia nelle categoriche ordinali che nominali. Per quanto riguarda le colonne che ospitavano degli interi faremo una sostituzione finale sostituendo la stringa \"0000\" in tutto il dataset con 0.\\\n",
        "In questo modo abbiamo gestito sia i valori nulli del dataset che le feature categoriche."
      ]
    },
    {
      "cell_type": "code",
      "execution_count": 38,
      "metadata": {
        "id": "xW48g_uJg-Wg"
      },
      "outputs": [],
      "source": [
        "%%capture \n",
        "\n",
        "# Definizione delle feature categoriche nominali per richiamarle poi nel ciclo for\n",
        "\n",
        "categorical_nominal_features = [\"MSZoning\", \"Street\", \"Alley\", \"LotShape\", \"LandContour\", \"Utilities\", \"LotConfig\",\n",
        "                                \"LandSlope\", \"Neighborhood\", \"Condition1\", \"Condition2\", \"BldgType\", \"HouseStyle\",\n",
        "                                \"RoofStyle\", \"RoofMatl\", \"Exterior1st\", \"Exterior2nd\",\n",
        "                                \"MasVnrType\", \"Foundation\", \"Heating\", \"CentralAir\", \"Electrical\",\n",
        "                                \"Functional\", \"GarageType\", \"PavedDrive\", \"MiscFeature\", \"SaleType\",\n",
        "                                \"SaleCondition\"]\n",
        "\n",
        "# Definizione delle feature categoriche ordinali per richiamarle poi nel ciclo for\n",
        "\n",
        "categorical_ordinal_features = [\n",
        "    \"ExterQual\", \"ExterCond\", \"BsmtQual\", \"BsmtCond\", \"HeatingQC\", \"KitchenQual\", \"FireplaceQu\", \"GarageQual\",\n",
        "    \"GarageCond\", \"PoolQC\", \"BsmtExposure\", \"BsmtFinType1\", \"BsmtFinType2\", \"GarageFinish\", \"Fence\"\n",
        "]\n",
        "\n",
        "# Scrittura delle scale differenti presenti nel dataset(prese dalla descrizione dei dati)\n",
        "\n",
        "quality_scale_dict = {\"0000\":0, \"NA\": 0, \"Po\": 1, \"Fa\": 2, \"TA\": 3, \"Gd\": 4, \"Ex\": 5}\n",
        "BstmExposure_dict = {\"0000\":0, \"NA\": 0, \"No\": 1, \"Mn\": 2, \"Av\": 3, \"Gd\": 4}\n",
        "BsmtFinType_dict = {\"0000\":0, \"NA\": 0, \"Unf\": 1, \"LwQ\": 2, \"Rec\": 3, \"BLQ\": 4, \"ALQ\": 5, \"GLQ\": 6}\n",
        "GarageFinish_dict = {\"0000\":0, \"NA\": 0, \"Unf\": 1, \"RFn\": 2, \"Fin\": 3}\n",
        "Fence_dict = {\"0000\":0, \"NA\": 0, \"MnWw\": 1, \"GdWo\": 2, \"MnPrv\": 3, \"GdPrv\": 4}\n",
        "\n",
        "# Assegnazione delle scale alle feature(secondo la descrizione dei dati)\n",
        "\n",
        "feature_scale_dict = {\n",
        "    \"ExterQual\": quality_scale_dict,\n",
        "    \"ExterCond\": quality_scale_dict,\n",
        "    \"BsmtQual\": quality_scale_dict,\n",
        "    \"BsmtCond\": quality_scale_dict,\n",
        "    \"HeatingQC\": quality_scale_dict,\n",
        "    \"KitchenQual\": quality_scale_dict,\n",
        "    \"FireplaceQu\": quality_scale_dict,\n",
        "    \"GarageQual\": quality_scale_dict,\n",
        "    \"GarageCond\": quality_scale_dict,\n",
        "    \"PoolQC\": quality_scale_dict,\n",
        "    \"BsmtExposure\": BstmExposure_dict,\n",
        "    \"BsmtFinType1\": BsmtFinType_dict,\n",
        "    \"BsmtFinType2\": BsmtFinType_dict,\n",
        "    \"GarageFinish\": GarageFinish_dict,\n",
        "    \"Fence\": Fence_dict\n",
        "}\n",
        "\n",
        "data.fillna(\"0000\", inplace=True) # Replace dei valori nulli con una stringa speciale che non è presente nel dataset\n",
        "\n",
        "# Trasformazione tramite LabelEncoder delle feature categoriche nominali\n",
        "\n",
        "le = LabelEncoder()\n",
        "\n",
        "for feature in categorical_nominal_features:\n",
        "    le.fit(data[feature])\n",
        "    data[feature] = le.transform(data[feature])\n",
        "\n",
        "# Trasformazione tramite apply rispetto il dizionario prima creato\n",
        "\n",
        "for feature in categorical_ordinal_features:\n",
        "    dict = feature_scale_dict[feature]\n",
        "    data[feature] = data[feature].apply(lambda x: dict[x])\n",
        "\n",
        "\n",
        "data.replace(\"0000\", 0, inplace=True) # Replace finale per gestire colonne dove sono finite le stringhe speciali\n",
        "\n"
      ]
    },
    {
      "cell_type": "markdown",
      "metadata": {
        "id": "M2CwPVfXg-Wg"
      },
      "source": [
        "### Modelli pre-feature engineering\n",
        "\n",
        "In questa sezione verranno mostrati i risultati dei seguenti modelli(tramite 5-fold cross validation) sulle feature non ingegnerizzate:\n",
        "- Linear Regression (baseline)\n",
        "- Decision Tree\n",
        "- Begging\n",
        "- Gradient Boosting\n",
        "- Random Forest\n",
        "- KNN (non-parametric)\n",
        "\n",
        "L'obiettivo sarà quello di confrontare l'evoluzione dei risultati post elaborazione delle feature. \\\n",
        "Il primo passo è quello di splittare il dataset in train e testset.\n"
      ]
    },
    {
      "cell_type": "code",
      "execution_count": 39,
      "metadata": {
        "id": "KMtK0PCYg-Wh"
      },
      "outputs": [],
      "source": [
        "# Separazione del target dal dataset\n",
        "\n",
        "X_data = data.drop([\"SalePrice\"], axis=1) #drop dalle colonne\n",
        "Y_data = data[\"SalePrice\"].values\n",
        "\n",
        "#X_data, X_test, Y_data, Y_test = train_test_split(X_data, Y_data, test_size=0.20)\n",
        "\n"
      ]
    },
    {
      "cell_type": "markdown",
      "metadata": {
        "id": "nc8AyIlqg-Wh"
      },
      "source": [
        "##### Linear Regression"
      ]
    },
    {
      "cell_type": "code",
      "execution_count": null,
      "metadata": {
        "id": "7VMVN0Cng-Wh",
        "outputId": "40113f3b-0c44-4f06-dbb4-3e05cc5cf608"
      },
      "outputs": [
        {
          "data": {
            "text/plain": [
              "<matplotlib.collections.PathCollection at 0x240925c15b0>"
            ]
          },
          "execution_count": 63,
          "metadata": {},
          "output_type": "execute_result"
        },
        {
          "data": {
            "text/plain": [
              "[<matplotlib.lines.Line2D at 0x24095729a90>]"
            ]
          },
          "execution_count": 63,
          "metadata": {},
          "output_type": "execute_result"
        },
        {
          "data": {
            "text/plain": [
              "Text(0.5, 0, 'Measured')"
            ]
          },
          "execution_count": 63,
          "metadata": {},
          "output_type": "execute_result"
        },
        {
          "data": {
            "text/plain": [
              "Text(0, 0.5, 'Predicted')"
            ]
          },
          "execution_count": 63,
          "metadata": {},
          "output_type": "execute_result"
        },
        {
          "data": {
            "image/png": "[encoded data removed]",
            "text/plain": [
              "<Figure size 432x288 with 1 Axes>"
            ]
          },
          "metadata": {
            "needs_background": "light"
          },
          "output_type": "display_data"
        },
        {
          "name": "stdout",
          "output_type": "stream",
          "text": [
            "0.43900541160292317\n"
          ]
        }
      ],
      "source": [
        "model1 = LinearRegression()\n",
        "folds = KFold(n_splits = 5, shuffle = True, random_state = 98)\n",
        "scores = cross_val_score(model1, X_data, Y_data, scoring='r2', cv=folds)\n",
        "lin_predict = cross_val_predict(model1, X_data, Y_data, cv=5)\n",
        "\n",
        "# Plot \n",
        "\n",
        "fig,  ax = plt.subplots()\n",
        "ax.scatter(Y_data, lin_predict, edgecolors=(0,0,0))\n",
        "ax.plot([Y_data.min(), Y_data.max()], [Y_data.min(), Y_data.max()], 'k--', lw=3)\n",
        "ax.set_xlabel('Measured')\n",
        "ax.set_ylabel('Predicted')\n",
        "plt.show()\n",
        "\n",
        "#####\n",
        "avg_score = np.mean(scores)\n",
        "print(avg_score)\n"
      ]
    },
    {
      "cell_type": "markdown",
      "metadata": {
        "id": "mnPW49rCg-Wh"
      },
      "source": [
        "##### Decision Tree"
      ]
    },
    {
      "cell_type": "markdown",
      "metadata": {
        "id": "ga_sIxMtg-Wh"
      },
      "source": [
        "Per quanto riguarda gli alberi di decisione decidiamo di usare le cross-fold validation per trovare l'iperparametro migliore per quanto riguarda la massima profondità degli stessi."
      ]
    },
    {
      "cell_type": "code",
      "execution_count": null,
      "metadata": {
        "id": "bg3JUHWfg-Wi",
        "outputId": "9087791b-ba04-4724-d2c3-1c45396ed133"
      },
      "outputs": [
        {
          "name": "stdout",
          "output_type": "stream",
          "text": [
            "Fitting 5 folds for each of 28 candidates, totalling 140 fits\n"
          ]
        },
        {
          "data": {
            "text/plain": [
              "GridSearchCV(cv=KFold(n_splits=5, random_state=98, shuffle=True),\n",
              "             estimator=DecisionTreeRegressor(random_state=42),\n",
              "             param_grid={'max_depth': [2, 3, 4, 5, 6, 7, 8, 9, 10, 11, 12, 13,\n",
              "                                       14, 15, 16, 17, 18, 19, 20, 21, 22, 23,\n",
              "                                       24, 25, 26, 27, 28, 29]},\n",
              "             verbose=1)"
            ]
          },
          "execution_count": 65,
          "metadata": {},
          "output_type": "execute_result"
        },
        {
          "data": {
            "text/plain": [
              "DecisionTreeRegressor(max_depth=9, random_state=42)"
            ]
          },
          "execution_count": 65,
          "metadata": {},
          "output_type": "execute_result"
        }
      ],
      "source": [
        "params = {'max_depth': list(range(2,30))}\n",
        "gscv = GridSearchCV(DecisionTreeRegressor(random_state = 42), params, verbose=1, cv = folds)\n",
        "\n",
        "gscv.fit(X_data, Y_data)\n",
        "\n",
        "gscv.best_estimator_\n"
      ]
    },
    {
      "cell_type": "code",
      "execution_count": null,
      "metadata": {
        "id": "3DINT8R7g-Wi",
        "outputId": "f3a68464-9d7a-489d-91a5-6fecdcaff3de"
      },
      "outputs": [
        {
          "data": {
            "text/plain": [
              "array([185199.37256814, 241000.        , 154849.04326898, ...,\n",
              "       177500.        , 167411.02835165, 164700.        ])"
            ]
          },
          "execution_count": 66,
          "metadata": {},
          "output_type": "execute_result"
        },
        {
          "data": {
            "text/plain": [
              "array([187201.94208151, 189547.19987628, 158163.72092977, ...,\n",
              "       175000.        , 166475.45758181, 171900.        ])"
            ]
          },
          "execution_count": 66,
          "metadata": {},
          "output_type": "execute_result"
        },
        {
          "data": {
            "text/plain": [
              "0.6790834666187447"
            ]
          },
          "execution_count": 66,
          "metadata": {},
          "output_type": "execute_result"
        }
      ],
      "source": [
        "dt = DecisionTreeRegressor(random_state=42, max_depth=16, criterion='mse')\n",
        "\n",
        "dt_scores = cross_val_score(dt, X_data, Y_data, cv=folds)\n",
        "lin2_predict = cross_val_predict(dt, X_data, Y_data, cv=folds)\n",
        "\n",
        "data[\"SalePrice\"].values\n",
        "lin2_predict\n",
        "\n",
        "avg_score_dt = np.mean(dt_scores)\n",
        "avg_score_dt"
      ]
    },
    {
      "cell_type": "markdown",
      "metadata": {
        "id": "1SUL89VHg-Wi"
      },
      "source": [
        "##### Bagging"
      ]
    },
    {
      "cell_type": "code",
      "execution_count": null,
      "metadata": {
        "id": "K-A3SnlPg-Wi",
        "outputId": "158c0305-5e62-439f-dcf0-5e2cc3b7f5a0"
      },
      "outputs": [
        {
          "name": "stdout",
          "output_type": "stream",
          "text": [
            "Fitting 5 folds for each of 13 candidates, totalling 65 fits\n"
          ]
        },
        {
          "data": {
            "text/plain": [
              "GridSearchCV(cv=KFold(n_splits=5, random_state=98, shuffle=True),\n",
              "             estimator=BaggingRegressor(random_state=42),\n",
              "             param_grid={'n_estimators': [2, 3, 4, 5, 6, 7, 8, 9, 10, 11, 12,\n",
              "                                          13, 14]},\n",
              "             verbose=1)"
            ]
          },
          "execution_count": 76,
          "metadata": {},
          "output_type": "execute_result"
        },
        {
          "data": {
            "text/plain": [
              "BaggingRegressor(n_estimators=14, random_state=42)"
            ]
          },
          "execution_count": 76,
          "metadata": {},
          "output_type": "execute_result"
        }
      ],
      "source": [
        "params1 = {'n_estimators': list(range(2,15))}\n",
        "gscv1 = GridSearchCV(BaggingRegressor(random_state = 42), params1, verbose=1, cv = folds)\n",
        "\n",
        "gscv1.fit(X_data, Y_data)\n",
        "\n",
        "gscv1.best_estimator_"
      ]
    },
    {
      "cell_type": "code",
      "execution_count": null,
      "metadata": {
        "id": "lPVCZK04g-Wi",
        "outputId": "18e29259-5e3b-4937-cff9-55a98925e808"
      },
      "outputs": [
        {
          "data": {
            "text/plain": [
              "0.8584554378482144"
            ]
          },
          "execution_count": 67,
          "metadata": {},
          "output_type": "execute_result"
        }
      ],
      "source": [
        "bag_regr = BaggingRegressor(random_state=42, n_estimators=100)\n",
        "bag_regr_scores = cross_val_score(bag_regr, X_data, Y_data, cv=folds)\n",
        "bag_regr_val = cross_val_predict(bag_regr, X_data, Y_data, cv=folds)\n",
        "\n",
        "avg_score_bag_regr = np.mean(bag_regr_scores)\n",
        "avg_score_bag_regr"
      ]
    },
    {
      "cell_type": "markdown",
      "metadata": {
        "id": "oeNyaDGwg-Wj"
      },
      "source": [
        "##### Gradient Boosting"
      ]
    },
    {
      "cell_type": "code",
      "execution_count": null,
      "metadata": {
        "id": "kraaNUImg-Wj",
        "outputId": "3ecb2656-0a70-468c-ddcf-4ef1426caff2"
      },
      "outputs": [
        {
          "name": "stdout",
          "output_type": "stream",
          "text": [
            "Fitting 5 folds for each of 98 candidates, totalling 490 fits\n"
          ]
        },
        {
          "data": {
            "text/plain": [
              "GridSearchCV(cv=KFold(n_splits=5, random_state=98, shuffle=True),\n",
              "             estimator=GradientBoostingRegressor(random_state=42),\n",
              "             param_grid={'n_estimators': [2, 3, 4, 5, 6, 7, 8, 9, 10, 11, 12,\n",
              "                                          13, 14, 15, 16, 17, 18, 19, 20, 21,\n",
              "                                          22, 23, 24, 25, 26, 27, 28, 29, 30,\n",
              "                                          31, ...]},\n",
              "             verbose=1)"
            ]
          },
          "execution_count": 80,
          "metadata": {},
          "output_type": "execute_result"
        },
        {
          "data": {
            "text/plain": [
              "GradientBoostingRegressor(n_estimators=99, random_state=42)"
            ]
          },
          "execution_count": 80,
          "metadata": {},
          "output_type": "execute_result"
        }
      ],
      "source": [
        "params2 = {'n_estimators': list(range(2,100))}\n",
        "gscv2 = GridSearchCV(GradientBoostingRegressor(random_state = 42), params2, verbose=1, cv = folds)\n",
        "\n",
        "gscv2.fit(X_data, Y_data)\n",
        "\n",
        "gscv2.best_estimator_"
      ]
    },
    {
      "cell_type": "code",
      "execution_count": null,
      "metadata": {
        "id": "VIW-9HFTg-Wj",
        "outputId": "3a4c82d1-f186-4b6b-a8db-9a98e39e226c"
      },
      "outputs": [
        {
          "data": {
            "text/plain": [
              "0.8323435000834405"
            ]
          },
          "execution_count": 68,
          "metadata": {},
          "output_type": "execute_result"
        }
      ],
      "source": [
        "grad_regr = GradientBoostingRegressor(random_state=42, n_estimators=100)\n",
        "grad_regr_scores = cross_val_score(grad_regr, X_data, Y_data, cv=folds)\n",
        "grad_regr_pred = cross_val_predict(grad_regr, X_data, Y_data, cv=folds)\n",
        "\n",
        "avg_score_grad_regr = np.mean(grad_regr_scores)\n",
        "avg_score_grad_regr"
      ]
    },
    {
      "cell_type": "markdown",
      "metadata": {
        "id": "JUE7LEyrg-Wj"
      },
      "source": [
        "##### Random Forest"
      ]
    },
    {
      "cell_type": "code",
      "execution_count": null,
      "metadata": {
        "id": "9FnLKbmcg-Wj",
        "outputId": "824942cb-6675-4014-acee-b21488cc3074"
      },
      "outputs": [
        {
          "data": {
            "text/plain": [
              "0.8580695222412302"
            ]
          },
          "execution_count": 69,
          "metadata": {},
          "output_type": "execute_result"
        }
      ],
      "source": [
        "forest_regr = RandomForestRegressor(random_state=42, n_estimators=100)\n",
        "forest_regr_scores = cross_val_score(forest_regr, X_data, Y_data, cv=folds)\n",
        "forest_regr_pred = cross_val_predict(forest_regr, X_data, Y_data, cv=folds)\n",
        "\n",
        "avg_score_forest_regr = np.mean(forest_regr_scores)\n",
        "avg_score_forest_regr"
      ]
    },
    {
      "cell_type": "markdown",
      "metadata": {
        "id": "PVYCNt40g-Wk"
      },
      "source": [
        "##### K Nearest Neighbors"
      ]
    },
    {
      "cell_type": "code",
      "execution_count": null,
      "metadata": {
        "id": "uKHemwZag-Wk",
        "outputId": "1284fac6-cb42-4594-ee21-79478973a956"
      },
      "outputs": [
        {
          "data": {
            "text/plain": [
              "0.5878948205087069"
            ]
          },
          "execution_count": 70,
          "metadata": {},
          "output_type": "execute_result"
        }
      ],
      "source": [
        "knn_regr = KNeighborsRegressor(n_neighbors=5)\n",
        "knn_regr_scores = cross_val_score(knn_regr, X_data, Y_data, cv=folds)\n",
        "knn_regr_pred = cross_val_predict(knn_regr, X_data, Y_data, cv=folds)\n",
        "\n",
        "avg_score_knn_regr = np.mean(knn_regr_scores)\n",
        "avg_score_knn_regr"
      ]
    },
    {
      "cell_type": "markdown",
      "metadata": {
        "id": "xtG1VFPbg-Wk"
      },
      "source": [
        "#### Correlazione tra feature\n",
        "\n",
        "In questa parte faremo un'analisi rispetto alla correlazione tra feature per trovare eventuali feature collimabili.\n",
        "\n",
        "L'idea è quella di creare una matrice di correlazione ed impostare una certa soglia affinché le feature sopra la stessa possano essere collimate secondo qualche logica."
      ]
    },
    {
      "cell_type": "code",
      "execution_count": null,
      "metadata": {
        "id": "Goc4Z4FEg-Wk",
        "outputId": "2a2918f1-f701-4839-db44-3eaf9b28a6a1"
      },
      "outputs": [
        {
          "data": {
            "text/plain": [
              "['YearBuilt and GarageYrBlt',\n",
              " 'Exterior1st and Exterior2nd',\n",
              " 'BsmtFinType1 and BsmtFinSF1',\n",
              " 'BsmtFinType2 and BsmtFinSF2',\n",
              " 'TotalBsmtSF and 1stFlrSF',\n",
              " 'GrLivArea and TotRmsAbvGrd',\n",
              " 'Fireplaces and FireplaceQu',\n",
              " 'GarageCars and GarageArea',\n",
              " 'PoolArea and PoolQC',\n",
              " 'MiscFeature and MiscVal']"
            ]
          },
          "execution_count": 71,
          "metadata": {},
          "output_type": "execute_result"
        }
      ],
      "source": [
        "\n",
        "corr = data.corr(method=\"spearman\") # Creazione della matrice di correlazione\n",
        "corr.style.background_gradient(cmap='coolwarm').to_html('Correlation.html') # Export della matrice di correlazione\n",
        "\n",
        "\n",
        "soglia0 = .60\n",
        "soglia1 = .70\n",
        "soglia2 = .80\n",
        "soglia3 = .90\n",
        "     \n",
        "# Ricerca di valori maggiori di una certa soglia rispetto la matrice\n",
        "\n",
        "#[f\"{corr.columns[i]} and {corr.columns[j]}\" for i, j in zip(*np.where(np.abs(corr.values) >= soglia0)) if i < j]\n",
        "#[f\"{corr.columns[i]} and {corr.columns[j]}\" for i, j in zip(*np.where(np.abs(corr.values) >= soglia1)) if i < j]\n",
        "[f\"{corr.columns[i]} and {corr.columns[j]}\" for i, j in zip(*np.where(np.abs(corr.values) >= soglia2)) if i < j]\n",
        "#[f\"{corr.columns[i]} and {corr.columns[j]}\" for i, j in zip(*np.where(np.abs(corr.values) >= soglia3)) if i < j]\n"
      ]
    },
    {
      "cell_type": "markdown",
      "metadata": {
        "id": "0iivC4jTg-Wl"
      },
      "source": [
        "Le due feature **YearBuilt** e **GarageYrBlt** sono decisamente collimabili a favore della prima, nella maggior parte dei casi ci si aspetta che il garage sia stato costruito lo stesso anno della casa e comunque, anche se così non fosse, non è una situazione che fornisce peso importante al prezzo finale di vendita."
      ]
    },
    {
      "cell_type": "code",
      "execution_count": 40,
      "metadata": {
        "id": "qQtleYbgg-Wl"
      },
      "outputs": [],
      "source": [
        "\n",
        "data.drop(\"GarageYrBlt\", inplace=True, axis = 1)"
      ]
    },
    {
      "cell_type": "markdown",
      "metadata": {
        "id": "Qvfq2_gwg-Wl"
      },
      "source": [
        "Le due feature **Exterior1st** e **Exterior2nd** sono collimabili a favore della prima: è molto difficile che ci sia un secondo materiale specifico ricoprente la casa che rivesta una percentuale degna di nota ed in ogni caso esso non impatterebbe in modo rilevante sul prezzo finale di vendita."
      ]
    },
    {
      "cell_type": "code",
      "execution_count": 41,
      "metadata": {
        "id": "iBWjg-G_g-Wl"
      },
      "outputs": [],
      "source": [
        "data.drop(\"Exterior2nd\", inplace=True, axis = 1)\n"
      ]
    },
    {
      "cell_type": "markdown",
      "metadata": {
        "id": "K5Ak20-2g-Wl"
      },
      "source": [
        "Le due feature **GrLivArea** e **TotRmsAbvGrd** sono decisamente collimabili a favore della prima: non è tanto importante il numero di camere(seconda) quanto il quantitativo di metri quadri(dal livello 0 in su) quando stiamo parlando di prezzo."
      ]
    },
    {
      "cell_type": "code",
      "execution_count": 42,
      "metadata": {
        "id": "EJM7S_ltg-Wm"
      },
      "outputs": [],
      "source": [
        "data.drop(\"TotRmsAbvGrd\", axis=1, inplace=True)"
      ]
    },
    {
      "cell_type": "markdown",
      "metadata": {
        "id": "qgDprEcog-Wm"
      },
      "source": [
        "Le due feature **Fireplaces** e **FireplaceQu** sono collimabili a favore della seconda: se esiste un camino(o più) nella casa sarà espresso dalla seconda feature che contiene anche informazioni sulla qualità dello stesso e sulla presenza/assenza."
      ]
    },
    {
      "cell_type": "code",
      "execution_count": 43,
      "metadata": {
        "id": "OfQBXmc9g-Wm"
      },
      "outputs": [],
      "source": [
        "data.drop(\"Fireplaces\", inplace=True, axis=1)"
      ]
    },
    {
      "cell_type": "markdown",
      "metadata": {
        "id": "PbyRr0HJg-Wm"
      },
      "source": [
        "Le due feature **GarageArea** e **GarageCars** sono decisamente collimabili a favore della prima: è più rilevante di quanti metri quadri sia il posto auto interno alla casa che la capacità di macchine che può ospitare."
      ]
    },
    {
      "cell_type": "code",
      "execution_count": 44,
      "metadata": {
        "id": "n_Yjoc4Jg-Wm"
      },
      "outputs": [],
      "source": [
        "data.drop(\"GarageCars\", inplace=True, axis=1)"
      ]
    },
    {
      "cell_type": "markdown",
      "metadata": {
        "id": "_6S48Qjbg-Wm"
      },
      "source": [
        "Per le due feature **PoolArea** e **PoolQC** vale lo stesso discorso fatto per **Fireplaces**. Collimiamo a favore di **PoolQC**."
      ]
    },
    {
      "cell_type": "code",
      "execution_count": 45,
      "metadata": {
        "id": "k6i0jBs3g-Wm"
      },
      "outputs": [],
      "source": [
        "data.drop(\"PoolArea\", inplace=True, axis=1)"
      ]
    },
    {
      "cell_type": "markdown",
      "metadata": {
        "id": "LBYBadZHg-Wn"
      },
      "source": [
        "Le due feature **MiscFeature** e **MiscVal** sono decisamente collimabili a favore della seconda in quanto rispecchia una summa di tutte le addizionalità presenti in una casa tramite il valore totale in dollari ed è quello che ci interessa a favore del prezzo finale."
      ]
    },
    {
      "cell_type": "code",
      "execution_count": 46,
      "metadata": {
        "id": "EvhqG3ebg-Wn"
      },
      "outputs": [],
      "source": [
        "data.drop(\"MiscFeature\", inplace=True, axis=1)"
      ]
    },
    {
      "cell_type": "markdown",
      "metadata": {
        "id": "LwbKhgwTg-Wn"
      },
      "source": [
        "Rispetto le feature rimanenti ci premiamo di esaminarle in ulteriori analisi a posteriori in quanto la decisione di come agire potrebbe essere deleteria rispetto alla predizione finale del prezzo di vendita."
      ]
    },
    {
      "cell_type": "markdown",
      "metadata": {
        "id": "ErsbZIaSg-Wn"
      },
      "source": [
        "Vengono ora mostrate le predizioni post cut delle feature indicate dei due modelli **Random Forest** e **Gradient Boosting**."
      ]
    },
    {
      "cell_type": "code",
      "execution_count": 47,
      "metadata": {
        "id": "nAb4i-e1g-Wn"
      },
      "outputs": [],
      "source": [
        "X_data = data.drop([\"SalePrice\"], axis=1) # Ricaricare il trainset aggiornato\n"
      ]
    },
    {
      "cell_type": "code",
      "execution_count": null,
      "metadata": {
        "id": "Xhxa_MQHg-Wo",
        "outputId": "cb8b22ca-05bc-431f-cffa-ae86abeb3bfa"
      },
      "outputs": [
        {
          "data": {
            "text/plain": [
              "0.8561398041211138"
            ]
          },
          "execution_count": 82,
          "metadata": {},
          "output_type": "execute_result"
        }
      ],
      "source": [
        "forest_regr = RandomForestRegressor(random_state=42, n_estimators=100)\n",
        "forest_regr_scores = cross_val_score(forest_regr, X_data, Y_data, cv=folds)\n",
        "forest_regr_pred = cross_val_predict(forest_regr, X_data, Y_data, cv=folds)\n",
        "\n",
        "avg_score_forest_regr = np.mean(forest_regr_scores)\n",
        "avg_score_forest_regr"
      ]
    },
    {
      "cell_type": "code",
      "execution_count": null,
      "metadata": {
        "id": "wVRCAwFVg-Wo",
        "outputId": "04867a4a-5131-401b-b71a-20ec3e60fac4"
      },
      "outputs": [
        {
          "data": {
            "text/plain": [
              "0.835219535629871"
            ]
          },
          "execution_count": 83,
          "metadata": {},
          "output_type": "execute_result"
        }
      ],
      "source": [
        "grad_regr = GradientBoostingRegressor(random_state=42, n_estimators=100)\n",
        "grad_regr_scores = cross_val_score(grad_regr, X_data, Y_data, cv=folds)\n",
        "grad_regr_pred = cross_val_predict(grad_regr, X_data, Y_data, cv=folds)\n",
        "\n",
        "avg_score_grad_regr = np.mean(grad_regr_scores)\n",
        "avg_score_grad_regr"
      ]
    },
    {
      "cell_type": "code",
      "execution_count": null,
      "metadata": {
        "id": "qGtEaT9_g-Wo"
      },
      "outputs": [],
      "source": [
        ""
      ]
    },
    {
      "cell_type": "markdown",
      "source": [
        "# Features Selection: wrapper methods"
      ],
      "metadata": {
        "id": "FTvAkMnynyoj"
      }
    },
    {
      "cell_type": "code",
      "source": [
        "def progress_bar(i, n, len, comment=''):\n",
        "    s = \"[\"\n",
        "\n",
        "    n = max(1, n)\n",
        "    i = max(0, i)\n",
        "    i = min(i, n)\n",
        "\n",
        "    q = i / n\n",
        "    done = int(len * q)\n",
        "    s += \"=\" * (done)\n",
        "\n",
        "    if (done != len):\n",
        "        s += \">\"\n",
        "\n",
        "    s += \"-\" * (len - done - 1)\n",
        "    s += \"] \" + str(i) + \"/\" + str(n) + \" \" + comment\n",
        "\n",
        "    return s\n",
        "\n",
        "\n",
        "def print_deletable_line(s):\n",
        "    print(\"\\r\" + s, end=\"\")\n",
        "\n",
        "def plot_data(cv_scores_sfs, cv_scores_sbs, cv_scores_rfe):\n",
        "    r2_scores_sfs = cv_scores_sfs['r2']\n",
        "    max_error_sfs = cv_scores_sfs['max_error']\n",
        "\n",
        "    r2_scores_sbs = cv_scores_sbs['r2']\n",
        "    max_error_sbs = cv_scores_sbs['max_error']\n",
        "\n",
        "    r2_scores_rfe = cv_scores_rfe['r2']\n",
        "    max_error_rfe = cv_scores_rfe['max_error']\n",
        "\n",
        "\n",
        "    X_axis = range(1, len(X_data1.columns) + 1)\n",
        "    top_k_sfs = np.argmax(r2_scores_sfs) + 1\n",
        "    top_k_sbs = np.argmax(r2_scores_sbs) + 1\n",
        "    top_k_rfe = np.argmax(r2_scores_rfe) + 1\n",
        "\n",
        "    print()\n",
        "    print(\"Best results:\")\n",
        "    print(\"\\tsfs top \" + str(top_k_sfs) + \" features, score: \" + str(r2_scores_sfs[top_k_sfs - 1]))\n",
        "    print(\"\\tsbs top \" + str(top_k_sbs) + \" features, score: \" + str(r2_scores_sbs[top_k_sbs - 1]))\n",
        "    print(\"\\trfe top \" + str(top_k_rfe) + \" features, score: \" + str(r2_scores_rfe[top_k_rfe - 1]))\n",
        "\n",
        "    fig, ax = plt.subplots(2, 3)\n",
        "    fig.set_size_inches(20, 10)\n",
        "    fig.suptitle(\"Linear Model\")\n",
        "\n",
        "    title = \"Linear Model\"\n",
        "\n",
        "    ax[0, 0].plot(X_axis, r2_scores_sfs, label='sfs')\n",
        "    ax[0, 0].scatter([top_k_sfs], [r2_scores_sfs[top_k_sfs - 1]])\n",
        "    ax[0, 0].axvline(x=top_k_sfs)\n",
        "\n",
        "    ax[0, 1].plot(X_axis, r2_scores_sbs, label='sbs', color='r')\n",
        "    ax[0, 1].scatter([top_k_sbs], [r2_scores_sbs[top_k_sbs - 1]], color='r')\n",
        "    ax[0, 1].axvline(x=top_k_sbs, color='r')\n",
        "\n",
        "    ax[0, 2].plot(X_axis, r2_scores_rfe, label='rfe', color='g')\n",
        "    ax[0, 2].scatter([top_k_rfe], [r2_scores_rfe[top_k_rfe - 1]], color='g')\n",
        "    ax[0, 2].axvline(x=top_k_rfe, color='g')\n",
        "\n",
        "    ax[1, 0].plot(X_axis, max_error_sfs, label='sfs')\n",
        "    ax[1, 1].plot(X_axis, max_error_sbs, label='sbs', color='r')\n",
        "    ax[1, 2].plot(X_axis, max_error_rfe, label='sbs', color='g')\n",
        "\n",
        "    ax[1, 0].set_xlabel(\"SFS\")\n",
        "    ax[1, 1].set_xlabel(\"SBS\")\n",
        "    ax[1, 2].set_xlabel(\"RFE\")\n",
        "\n",
        "    ax[0, 0].set_ylabel(\"R2\")\n",
        "    ax[1, 0].set_ylabel(\"Max Error\")\n",
        "\n",
        "    plt.show()"
      ],
      "metadata": {
        "id": "nputWUqun7ik"
      },
      "execution_count": 62,
      "outputs": []
    },
    {
      "cell_type": "code",
      "source": [
        "def selection_analysis(model, X_data, y_data, direction='forward'):\n",
        "    if direction not in ['forward', 'backward']:\n",
        "        return False\n",
        "\n",
        "    sfs = SFS(model, n_features_to_select=float(1), direction=direction, cv=None, scoring='r2', n_jobs=-1)\n",
        "\n",
        "    n_features = len(X_data.columns)\n",
        "\n",
        "    current_mask = np.zeros(shape=n_features, dtype=bool)\n",
        "\n",
        "    feature_rank = []\n",
        "    cv_scores = {'r2': [], 'max_error': []}\n",
        "\n",
        "    for i in range(n_features):\n",
        "        if direction == 'backward' and i == n_features-1:\n",
        "            break\n",
        "\n",
        "        print_deletable_line(progress_bar(i + 1, n_features, 20, direction + \" selection.\"))\n",
        "\n",
        "        #prossima miglior feature\n",
        "        new_feature_index = sfs._get_best_new_feature(model, X_data.values, y_data, current_mask)\n",
        "\n",
        "        current_mask[new_feature_index] = True\n",
        "\n",
        "        feature_rank.append(new_feature_index)\n",
        "\n",
        "        if direction == 'forward':\n",
        "            X_new = X_data.iloc[:, feature_rank]\n",
        "        if direction == 'backward':\n",
        "            X_new = X_data.drop(X_data.columns[feature_rank],axis=1)\n",
        "\n",
        "        #cv del modello con le top i features\n",
        "        folds = KFold(n_splits=5, shuffle=True, random_state=98)\n",
        "        temp = cross_validate(model, X_new, y_data, scoring=['r2', 'max_error'], cv=folds)\n",
        "\n",
        "        cv_scores['r2'].append(temp['test_r2'].mean())\n",
        "        cv_scores['max_error'].append(temp['test_max_error'].mean())\n",
        "\n",
        "    #se è backward aggiungi r2 medio con tutte le features\n",
        "    if direction == 'backward':\n",
        "        print_deletable_line(progress_bar(n_features, n_features, 20, direction + \" selection.\"))\n",
        "\n",
        "        feature_rank.append(np.where(current_mask == False)[0][0])\n",
        "        feature_rank.reverse()\n",
        "\n",
        "        cv_scores['r2'].reverse()\n",
        "        cv_scores['max_error'].reverse()\n",
        "        folds = KFold(n_splits=5, shuffle=True, random_state=98)\n",
        "        temp = cross_validate(model, X_data, y_data, scoring=['r2', 'max_error'], cv=folds)\n",
        "\n",
        "        cv_scores['r2'].append(temp['test_r2'].mean())\n",
        "        cv_scores['max_error'].append(temp['test_max_error'].mean())\n",
        "\n",
        "    print()\n",
        "    return feature_rank, cv_scores"
      ],
      "metadata": {
        "id": "19peh8SMb6yY"
      },
      "execution_count": 49,
      "outputs": []
    },
    {
      "cell_type": "code",
      "source": [
        "def rfe_analysis(model, X_data, y_data):\n",
        "    models = {}\n",
        "\n",
        "    #costruzione dei modelli da valutare\n",
        "    for i in range(1, len(X_data.columns)+1):\n",
        "        rfe = RFE(estimator=model, n_features_to_select=i)\n",
        "        models[str(i)] = Pipeline(steps=[('s', rfe), ('m', model)])\n",
        "\n",
        "    cv_scores = {'r2': [], 'max_error': []}\n",
        "\n",
        "    #valutazione dei modelli\n",
        "    l = len(models)\n",
        "\n",
        "    i = 1\n",
        "    for name, model in models.items():\n",
        "        print_deletable_line(progress_bar(i, l, 20, \"RFE\"))\n",
        "        i += 1\n",
        "\n",
        "        folds = KFold(n_splits=5, shuffle=True, random_state=98)\n",
        "        temp = cross_validate(model, X_data, y_data, scoring=['r2', 'max_error'], cv=folds)\n",
        "\n",
        "        cv_scores['r2'].append(temp['test_r2'].mean())\n",
        "        cv_scores['max_error'].append(temp['test_max_error'].mean())\n",
        "\n",
        "    print()\n",
        "    return cv_scores"
      ],
      "metadata": {
        "id": "Zn3WYhiGb4ps"
      },
      "execution_count": 50,
      "outputs": []
    },
    {
      "cell_type": "code",
      "source": [
        "X_data1 = X_data.iloc[:,range(0,15)]\n",
        "\n",
        "model = LinearRegression()\n",
        "\n",
        "feature_rank_sfs, cv_scores_sfs = selection_analysis(model, X_data1, Y_data, direction='forward')\n",
        "feature_rank_sbs, cv_scores_sbs = selection_analysis(model, X_data1, Y_data, direction='backward')\n",
        "cv_scores_rfe = rfe_analysis(model, X_data1, Y_data)\n",
        "\n",
        "plot_data(cv_scores_sfs, cv_scores_sbs, cv_scores_rfe)\n"
      ],
      "metadata": {
        "id": "48_g9Cx_oAeV",
        "outputId": "12f1aeab-fac9-470a-e0a0-d7a6ec0e5db6",
        "colab": {
          "base_uri": "https://localhost:8080/",
          "height": 816
        }
      },
      "execution_count": 63,
      "outputs": [
        {
          "output_type": "stream",
          "name": "stdout",
          "text": [
            "[====================] 15/15 forward selection.\n",
            "[====================] 15/15 backward selection.\n",
            "[====================] 15/15 RFE\n",
            "\n",
            "Best results:\n",
            "\tsfs top 12 features, score: 0.5750813608234401\n",
            "\tsbs top 12 features, score: 0.5750813608234401\n",
            "\trfe top 15 features, score: 0.5743908391552663\n"
          ]
        },
        {
          "output_type": "display_data",
          "data": {
            "text/plain": [
              "<Figure size 1440x720 with 6 Axes>"
            ],
            "image/png": "[encoded data removed]"
          },
          "metadata": {
            "needs_background": "light"
          }
        }
      ]
    },
    {
      "cell_type": "code",
      "source": [
        "model = DecisionTreeRegressor(max_depth=9, random_state=42)\n",
        "\n",
        "feature_rank_sfs, cv_scores_sfs = selection_analysis(model, X_data1, Y_data, direction='forward')\n",
        "feature_rank_sbs, cv_scores_sbs = selection_analysis(model, X_data1, Y_data, direction='backward')\n",
        "cv_scores_rfe = rfe_analysis(model, X_data1, Y_data)\n",
        "\n",
        "plot_data(cv_scores_sfs, cv_scores_sbs, cv_scores_rfe)"
      ],
      "metadata": {
        "id": "1ANl3D3Sd9BH"
      },
      "execution_count": null,
      "outputs": []
    },
    {
      "cell_type": "code",
      "source": [
        "model = BaggingRegressor(n_estimators=14, random_state=42)\n",
        "\n",
        "feature_rank_sfs, cv_scores_sfs = selection_analysis(model, X_data1, Y_data, direction='forward')\n",
        "feature_rank_sbs, cv_scores_sbs = selection_analysis(model, X_data1, Y_data, direction='backward')\n",
        "cv_scores_rfe = rfe_analysis(model, X_data1, Y_data)\n",
        "\n",
        "plot_data(cv_scores_sfs, cv_scores_sbs, cv_scores_rfe)"
      ],
      "metadata": {
        "id": "a6_p_OASeRMp"
      },
      "execution_count": null,
      "outputs": []
    },
    {
      "cell_type": "code",
      "source": [
        "model = GradientBoostingRegressor(n_estimators=50, random_state=42)\n",
        "\n",
        "feature_rank_sfs, cv_scores_sfs = selection_analysis(model, X_data1, Y_data, direction='forward')\n",
        "feature_rank_sbs, cv_scores_sbs = selection_analysis(model, X_data1, Y_data, direction='backward')\n",
        "cv_scores_rfe = rfe_analysis(model, X_data1, Y_data)\n",
        "\n",
        "plot_data(cv_scores_sfs, cv_scores_sbs, cv_scores_rfe)"
      ],
      "metadata": {
        "id": "hvuh23sheV_C",
        "outputId": "e3d7aef9-a078-4fab-e6a6-9ed3e9a25c04",
        "colab": {
          "base_uri": "https://localhost:8080/",
          "height": 397
        }
      },
      "execution_count": 71,
      "outputs": [
        {
          "output_type": "stream",
          "name": "stdout",
          "text": [
            "[========>-----------] 6/15 forward selection."
          ]
        },
        {
          "output_type": "error",
          "ename": "KeyboardInterrupt",
          "evalue": "ignored",
          "traceback": [
            "\u001b[0;31m---------------------------------------------------------------------------\u001b[0m",
            "\u001b[0;31mKeyboardInterrupt\u001b[0m                         Traceback (most recent call last)",
            "\u001b[0;32m<ipython-input-71-2802e93de9c2>\u001b[0m in \u001b[0;36m<module>\u001b[0;34m()\u001b[0m\n\u001b[1;32m      1\u001b[0m \u001b[0mmodel\u001b[0m \u001b[0;34m=\u001b[0m \u001b[0mGradientBoostingRegressor\u001b[0m\u001b[0;34m(\u001b[0m\u001b[0mn_estimators\u001b[0m\u001b[0;34m=\u001b[0m\u001b[0;36m50\u001b[0m\u001b[0;34m,\u001b[0m \u001b[0mrandom_state\u001b[0m\u001b[0;34m=\u001b[0m\u001b[0;36m42\u001b[0m\u001b[0;34m)\u001b[0m\u001b[0;34m\u001b[0m\u001b[0;34m\u001b[0m\u001b[0m\n\u001b[1;32m      2\u001b[0m \u001b[0;34m\u001b[0m\u001b[0m\n\u001b[0;32m----> 3\u001b[0;31m \u001b[0mfeature_rank_sfs\u001b[0m\u001b[0;34m,\u001b[0m \u001b[0mcv_scores_sfs\u001b[0m \u001b[0;34m=\u001b[0m \u001b[0mselection_analysis\u001b[0m\u001b[0;34m(\u001b[0m\u001b[0mmodel\u001b[0m\u001b[0;34m,\u001b[0m \u001b[0mX_data1\u001b[0m\u001b[0;34m,\u001b[0m \u001b[0mY_data\u001b[0m\u001b[0;34m,\u001b[0m \u001b[0mdirection\u001b[0m\u001b[0;34m=\u001b[0m\u001b[0;34m'forward'\u001b[0m\u001b[0;34m)\u001b[0m\u001b[0;34m\u001b[0m\u001b[0;34m\u001b[0m\u001b[0m\n\u001b[0m\u001b[1;32m      4\u001b[0m \u001b[0mfeature_rank_sbs\u001b[0m\u001b[0;34m,\u001b[0m \u001b[0mcv_scores_sbs\u001b[0m \u001b[0;34m=\u001b[0m \u001b[0mselection_analysis\u001b[0m\u001b[0;34m(\u001b[0m\u001b[0mmodel\u001b[0m\u001b[0;34m,\u001b[0m \u001b[0mX_data1\u001b[0m\u001b[0;34m,\u001b[0m \u001b[0mY_data\u001b[0m\u001b[0;34m,\u001b[0m \u001b[0mdirection\u001b[0m\u001b[0;34m=\u001b[0m\u001b[0;34m'backward'\u001b[0m\u001b[0;34m)\u001b[0m\u001b[0;34m\u001b[0m\u001b[0;34m\u001b[0m\u001b[0m\n\u001b[1;32m      5\u001b[0m \u001b[0mcv_scores_rfe\u001b[0m \u001b[0;34m=\u001b[0m \u001b[0mrfe_analysis\u001b[0m\u001b[0;34m(\u001b[0m\u001b[0mmodel\u001b[0m\u001b[0;34m,\u001b[0m \u001b[0mX_data1\u001b[0m\u001b[0;34m,\u001b[0m \u001b[0mY_data\u001b[0m\u001b[0;34m)\u001b[0m\u001b[0;34m\u001b[0m\u001b[0;34m\u001b[0m\u001b[0m\n",
            "\u001b[0;32m<ipython-input-49-d5c740fad02a>\u001b[0m in \u001b[0;36mselection_analysis\u001b[0;34m(model, X_data, y_data, direction)\u001b[0m\n\u001b[1;32m     18\u001b[0m         \u001b[0mprint_deletable_line\u001b[0m\u001b[0;34m(\u001b[0m\u001b[0mprogress_bar\u001b[0m\u001b[0;34m(\u001b[0m\u001b[0mi\u001b[0m \u001b[0;34m+\u001b[0m \u001b[0;36m1\u001b[0m\u001b[0;34m,\u001b[0m \u001b[0mn_features\u001b[0m\u001b[0;34m,\u001b[0m \u001b[0;36m20\u001b[0m\u001b[0;34m,\u001b[0m \u001b[0mdirection\u001b[0m \u001b[0;34m+\u001b[0m \u001b[0;34m\" selection.\"\u001b[0m\u001b[0;34m)\u001b[0m\u001b[0;34m)\u001b[0m\u001b[0;34m\u001b[0m\u001b[0;34m\u001b[0m\u001b[0m\n\u001b[1;32m     19\u001b[0m \u001b[0;34m\u001b[0m\u001b[0m\n\u001b[0;32m---> 20\u001b[0;31m         \u001b[0mnew_feature_index\u001b[0m \u001b[0;34m=\u001b[0m \u001b[0msfs\u001b[0m\u001b[0;34m.\u001b[0m\u001b[0m_get_best_new_feature\u001b[0m\u001b[0;34m(\u001b[0m\u001b[0mmodel\u001b[0m\u001b[0;34m,\u001b[0m \u001b[0mX_data\u001b[0m\u001b[0;34m.\u001b[0m\u001b[0mvalues\u001b[0m\u001b[0;34m,\u001b[0m \u001b[0my_data\u001b[0m\u001b[0;34m,\u001b[0m \u001b[0mcurrent_mask\u001b[0m\u001b[0;34m)\u001b[0m\u001b[0;34m\u001b[0m\u001b[0;34m\u001b[0m\u001b[0m\n\u001b[0m\u001b[1;32m     21\u001b[0m \u001b[0;34m\u001b[0m\u001b[0m\n\u001b[1;32m     22\u001b[0m         \u001b[0mcurrent_mask\u001b[0m\u001b[0;34m[\u001b[0m\u001b[0mnew_feature_index\u001b[0m\u001b[0;34m]\u001b[0m \u001b[0;34m=\u001b[0m \u001b[0;32mTrue\u001b[0m\u001b[0;34m\u001b[0m\u001b[0;34m\u001b[0m\u001b[0m\n",
            "\u001b[0;32m/usr/local/lib/python3.7/dist-packages/sklearn/feature_selection/_sequential.py\u001b[0m in \u001b[0;36m_get_best_new_feature\u001b[0;34m(self, estimator, X, y, current_mask)\u001b[0m\n\u001b[1;32m    236\u001b[0m                 \u001b[0mcv\u001b[0m\u001b[0;34m=\u001b[0m\u001b[0mself\u001b[0m\u001b[0;34m.\u001b[0m\u001b[0mcv\u001b[0m\u001b[0;34m,\u001b[0m\u001b[0;34m\u001b[0m\u001b[0;34m\u001b[0m\u001b[0m\n\u001b[1;32m    237\u001b[0m                 \u001b[0mscoring\u001b[0m\u001b[0;34m=\u001b[0m\u001b[0mself\u001b[0m\u001b[0;34m.\u001b[0m\u001b[0mscoring\u001b[0m\u001b[0;34m,\u001b[0m\u001b[0;34m\u001b[0m\u001b[0;34m\u001b[0m\u001b[0m\n\u001b[0;32m--> 238\u001b[0;31m                 \u001b[0mn_jobs\u001b[0m\u001b[0;34m=\u001b[0m\u001b[0mself\u001b[0m\u001b[0;34m.\u001b[0m\u001b[0mn_jobs\u001b[0m\u001b[0;34m,\u001b[0m\u001b[0;34m\u001b[0m\u001b[0;34m\u001b[0m\u001b[0m\n\u001b[0m\u001b[1;32m    239\u001b[0m             ).mean()\n\u001b[1;32m    240\u001b[0m         \u001b[0;32mreturn\u001b[0m \u001b[0mmax\u001b[0m\u001b[0;34m(\u001b[0m\u001b[0mscores\u001b[0m\u001b[0;34m,\u001b[0m \u001b[0mkey\u001b[0m\u001b[0;34m=\u001b[0m\u001b[0;32mlambda\u001b[0m \u001b[0mfeature_idx\u001b[0m\u001b[0;34m:\u001b[0m \u001b[0mscores\u001b[0m\u001b[0;34m[\u001b[0m\u001b[0mfeature_idx\u001b[0m\u001b[0;34m]\u001b[0m\u001b[0;34m)\u001b[0m\u001b[0;34m\u001b[0m\u001b[0;34m\u001b[0m\u001b[0m\n",
            "\u001b[0;32m/usr/local/lib/python3.7/dist-packages/sklearn/model_selection/_validation.py\u001b[0m in \u001b[0;36mcross_val_score\u001b[0;34m(estimator, X, y, groups, scoring, cv, n_jobs, verbose, fit_params, pre_dispatch, error_score)\u001b[0m\n\u001b[1;32m    518\u001b[0m         \u001b[0mfit_params\u001b[0m\u001b[0;34m=\u001b[0m\u001b[0mfit_params\u001b[0m\u001b[0;34m,\u001b[0m\u001b[0;34m\u001b[0m\u001b[0;34m\u001b[0m\u001b[0m\n\u001b[1;32m    519\u001b[0m         \u001b[0mpre_dispatch\u001b[0m\u001b[0;34m=\u001b[0m\u001b[0mpre_dispatch\u001b[0m\u001b[0;34m,\u001b[0m\u001b[0;34m\u001b[0m\u001b[0;34m\u001b[0m\u001b[0m\n\u001b[0;32m--> 520\u001b[0;31m         \u001b[0merror_score\u001b[0m\u001b[0;34m=\u001b[0m\u001b[0merror_score\u001b[0m\u001b[0;34m,\u001b[0m\u001b[0;34m\u001b[0m\u001b[0;34m\u001b[0m\u001b[0m\n\u001b[0m\u001b[1;32m    521\u001b[0m     )\n\u001b[1;32m    522\u001b[0m     \u001b[0;32mreturn\u001b[0m \u001b[0mcv_results\u001b[0m\u001b[0;34m[\u001b[0m\u001b[0;34m\"test_score\"\u001b[0m\u001b[0;34m]\u001b[0m\u001b[0;34m\u001b[0m\u001b[0;34m\u001b[0m\u001b[0m\n",
            "\u001b[0;32m/usr/local/lib/python3.7/dist-packages/sklearn/model_selection/_validation.py\u001b[0m in \u001b[0;36mcross_validate\u001b[0;34m(estimator, X, y, groups, scoring, cv, n_jobs, verbose, fit_params, pre_dispatch, return_train_score, return_estimator, error_score)\u001b[0m\n\u001b[1;32m    281\u001b[0m             \u001b[0merror_score\u001b[0m\u001b[0;34m=\u001b[0m\u001b[0merror_score\u001b[0m\u001b[0;34m,\u001b[0m\u001b[0;34m\u001b[0m\u001b[0;34m\u001b[0m\u001b[0m\n\u001b[1;32m    282\u001b[0m         )\n\u001b[0;32m--> 283\u001b[0;31m         \u001b[0;32mfor\u001b[0m \u001b[0mtrain\u001b[0m\u001b[0;34m,\u001b[0m \u001b[0mtest\u001b[0m \u001b[0;32min\u001b[0m \u001b[0mcv\u001b[0m\u001b[0;34m.\u001b[0m\u001b[0msplit\u001b[0m\u001b[0;34m(\u001b[0m\u001b[0mX\u001b[0m\u001b[0;34m,\u001b[0m \u001b[0my\u001b[0m\u001b[0;34m,\u001b[0m \u001b[0mgroups\u001b[0m\u001b[0;34m)\u001b[0m\u001b[0;34m\u001b[0m\u001b[0;34m\u001b[0m\u001b[0m\n\u001b[0m\u001b[1;32m    284\u001b[0m     )\n\u001b[1;32m    285\u001b[0m \u001b[0;34m\u001b[0m\u001b[0m\n",
            "\u001b[0;32m/usr/local/lib/python3.7/dist-packages/joblib/parallel.py\u001b[0m in \u001b[0;36m__call__\u001b[0;34m(self, iterable)\u001b[0m\n\u001b[1;32m   1054\u001b[0m \u001b[0;34m\u001b[0m\u001b[0m\n\u001b[1;32m   1055\u001b[0m             \u001b[0;32mwith\u001b[0m \u001b[0mself\u001b[0m\u001b[0;34m.\u001b[0m\u001b[0m_backend\u001b[0m\u001b[0;34m.\u001b[0m\u001b[0mretrieval_context\u001b[0m\u001b[0;34m(\u001b[0m\u001b[0;34m)\u001b[0m\u001b[0;34m:\u001b[0m\u001b[0;34m\u001b[0m\u001b[0;34m\u001b[0m\u001b[0m\n\u001b[0;32m-> 1056\u001b[0;31m                 \u001b[0mself\u001b[0m\u001b[0;34m.\u001b[0m\u001b[0mretrieve\u001b[0m\u001b[0;34m(\u001b[0m\u001b[0;34m)\u001b[0m\u001b[0;34m\u001b[0m\u001b[0;34m\u001b[0m\u001b[0m\n\u001b[0m\u001b[1;32m   1057\u001b[0m             \u001b[0;31m# Make sure that we get a last message telling us we are done\u001b[0m\u001b[0;34m\u001b[0m\u001b[0;34m\u001b[0m\u001b[0;34m\u001b[0m\u001b[0m\n\u001b[1;32m   1058\u001b[0m             \u001b[0melapsed_time\u001b[0m \u001b[0;34m=\u001b[0m \u001b[0mtime\u001b[0m\u001b[0;34m.\u001b[0m\u001b[0mtime\u001b[0m\u001b[0;34m(\u001b[0m\u001b[0;34m)\u001b[0m \u001b[0;34m-\u001b[0m \u001b[0mself\u001b[0m\u001b[0;34m.\u001b[0m\u001b[0m_start_time\u001b[0m\u001b[0;34m\u001b[0m\u001b[0;34m\u001b[0m\u001b[0m\n",
            "\u001b[0;32m/usr/local/lib/python3.7/dist-packages/joblib/parallel.py\u001b[0m in \u001b[0;36mretrieve\u001b[0;34m(self)\u001b[0m\n\u001b[1;32m    933\u001b[0m             \u001b[0;32mtry\u001b[0m\u001b[0;34m:\u001b[0m\u001b[0;34m\u001b[0m\u001b[0;34m\u001b[0m\u001b[0m\n\u001b[1;32m    934\u001b[0m                 \u001b[0;32mif\u001b[0m \u001b[0mgetattr\u001b[0m\u001b[0;34m(\u001b[0m\u001b[0mself\u001b[0m\u001b[0;34m.\u001b[0m\u001b[0m_backend\u001b[0m\u001b[0;34m,\u001b[0m \u001b[0;34m'supports_timeout'\u001b[0m\u001b[0;34m,\u001b[0m \u001b[0;32mFalse\u001b[0m\u001b[0;34m)\u001b[0m\u001b[0;34m:\u001b[0m\u001b[0;34m\u001b[0m\u001b[0;34m\u001b[0m\u001b[0m\n\u001b[0;32m--> 935\u001b[0;31m                     \u001b[0mself\u001b[0m\u001b[0;34m.\u001b[0m\u001b[0m_output\u001b[0m\u001b[0;34m.\u001b[0m\u001b[0mextend\u001b[0m\u001b[0;34m(\u001b[0m\u001b[0mjob\u001b[0m\u001b[0;34m.\u001b[0m\u001b[0mget\u001b[0m\u001b[0;34m(\u001b[0m\u001b[0mtimeout\u001b[0m\u001b[0;34m=\u001b[0m\u001b[0mself\u001b[0m\u001b[0;34m.\u001b[0m\u001b[0mtimeout\u001b[0m\u001b[0;34m)\u001b[0m\u001b[0;34m)\u001b[0m\u001b[0;34m\u001b[0m\u001b[0;34m\u001b[0m\u001b[0m\n\u001b[0m\u001b[1;32m    936\u001b[0m                 \u001b[0;32melse\u001b[0m\u001b[0;34m:\u001b[0m\u001b[0;34m\u001b[0m\u001b[0;34m\u001b[0m\u001b[0m\n\u001b[1;32m    937\u001b[0m                     \u001b[0mself\u001b[0m\u001b[0;34m.\u001b[0m\u001b[0m_output\u001b[0m\u001b[0;34m.\u001b[0m\u001b[0mextend\u001b[0m\u001b[0;34m(\u001b[0m\u001b[0mjob\u001b[0m\u001b[0;34m.\u001b[0m\u001b[0mget\u001b[0m\u001b[0;34m(\u001b[0m\u001b[0;34m)\u001b[0m\u001b[0;34m)\u001b[0m\u001b[0;34m\u001b[0m\u001b[0;34m\u001b[0m\u001b[0m\n",
            "\u001b[0;32m/usr/local/lib/python3.7/dist-packages/joblib/_parallel_backends.py\u001b[0m in \u001b[0;36mwrap_future_result\u001b[0;34m(future, timeout)\u001b[0m\n\u001b[1;32m    540\u001b[0m         AsyncResults.get from multiprocessing.\"\"\"\n\u001b[1;32m    541\u001b[0m         \u001b[0;32mtry\u001b[0m\u001b[0;34m:\u001b[0m\u001b[0;34m\u001b[0m\u001b[0;34m\u001b[0m\u001b[0m\n\u001b[0;32m--> 542\u001b[0;31m             \u001b[0;32mreturn\u001b[0m \u001b[0mfuture\u001b[0m\u001b[0;34m.\u001b[0m\u001b[0mresult\u001b[0m\u001b[0;34m(\u001b[0m\u001b[0mtimeout\u001b[0m\u001b[0;34m=\u001b[0m\u001b[0mtimeout\u001b[0m\u001b[0;34m)\u001b[0m\u001b[0;34m\u001b[0m\u001b[0;34m\u001b[0m\u001b[0m\n\u001b[0m\u001b[1;32m    543\u001b[0m         \u001b[0;32mexcept\u001b[0m \u001b[0mCfTimeoutError\u001b[0m \u001b[0;32mas\u001b[0m \u001b[0me\u001b[0m\u001b[0;34m:\u001b[0m\u001b[0;34m\u001b[0m\u001b[0;34m\u001b[0m\u001b[0m\n\u001b[1;32m    544\u001b[0m             \u001b[0;32mraise\u001b[0m \u001b[0mTimeoutError\u001b[0m \u001b[0;32mfrom\u001b[0m \u001b[0me\u001b[0m\u001b[0;34m\u001b[0m\u001b[0;34m\u001b[0m\u001b[0m\n",
            "\u001b[0;32m/usr/lib/python3.7/concurrent/futures/_base.py\u001b[0m in \u001b[0;36mresult\u001b[0;34m(self, timeout)\u001b[0m\n\u001b[1;32m    428\u001b[0m                 \u001b[0;32mreturn\u001b[0m \u001b[0mself\u001b[0m\u001b[0;34m.\u001b[0m\u001b[0m__get_result\u001b[0m\u001b[0;34m(\u001b[0m\u001b[0;34m)\u001b[0m\u001b[0;34m\u001b[0m\u001b[0;34m\u001b[0m\u001b[0m\n\u001b[1;32m    429\u001b[0m \u001b[0;34m\u001b[0m\u001b[0m\n\u001b[0;32m--> 430\u001b[0;31m             \u001b[0mself\u001b[0m\u001b[0;34m.\u001b[0m\u001b[0m_condition\u001b[0m\u001b[0;34m.\u001b[0m\u001b[0mwait\u001b[0m\u001b[0;34m(\u001b[0m\u001b[0mtimeout\u001b[0m\u001b[0;34m)\u001b[0m\u001b[0;34m\u001b[0m\u001b[0;34m\u001b[0m\u001b[0m\n\u001b[0m\u001b[1;32m    431\u001b[0m \u001b[0;34m\u001b[0m\u001b[0m\n\u001b[1;32m    432\u001b[0m             \u001b[0;32mif\u001b[0m \u001b[0mself\u001b[0m\u001b[0;34m.\u001b[0m\u001b[0m_state\u001b[0m \u001b[0;32min\u001b[0m \u001b[0;34m[\u001b[0m\u001b[0mCANCELLED\u001b[0m\u001b[0;34m,\u001b[0m \u001b[0mCANCELLED_AND_NOTIFIED\u001b[0m\u001b[0;34m]\u001b[0m\u001b[0;34m:\u001b[0m\u001b[0;34m\u001b[0m\u001b[0;34m\u001b[0m\u001b[0m\n",
            "\u001b[0;32m/usr/lib/python3.7/threading.py\u001b[0m in \u001b[0;36mwait\u001b[0;34m(self, timeout)\u001b[0m\n\u001b[1;32m    294\u001b[0m         \u001b[0;32mtry\u001b[0m\u001b[0;34m:\u001b[0m    \u001b[0;31m# restore state no matter what (e.g., KeyboardInterrupt)\u001b[0m\u001b[0;34m\u001b[0m\u001b[0;34m\u001b[0m\u001b[0m\n\u001b[1;32m    295\u001b[0m             \u001b[0;32mif\u001b[0m \u001b[0mtimeout\u001b[0m \u001b[0;32mis\u001b[0m \u001b[0;32mNone\u001b[0m\u001b[0;34m:\u001b[0m\u001b[0;34m\u001b[0m\u001b[0;34m\u001b[0m\u001b[0m\n\u001b[0;32m--> 296\u001b[0;31m                 \u001b[0mwaiter\u001b[0m\u001b[0;34m.\u001b[0m\u001b[0macquire\u001b[0m\u001b[0;34m(\u001b[0m\u001b[0;34m)\u001b[0m\u001b[0;34m\u001b[0m\u001b[0;34m\u001b[0m\u001b[0m\n\u001b[0m\u001b[1;32m    297\u001b[0m                 \u001b[0mgotit\u001b[0m \u001b[0;34m=\u001b[0m \u001b[0;32mTrue\u001b[0m\u001b[0;34m\u001b[0m\u001b[0;34m\u001b[0m\u001b[0m\n\u001b[1;32m    298\u001b[0m             \u001b[0;32melse\u001b[0m\u001b[0;34m:\u001b[0m\u001b[0;34m\u001b[0m\u001b[0;34m\u001b[0m\u001b[0m\n",
            "\u001b[0;31mKeyboardInterrupt\u001b[0m: "
          ]
        }
      ]
    },
    {
      "cell_type": "code",
      "source": [
        "model = RandomForestRegressor(random_state=42, n_estimators=10)\n",
        "\n",
        "feature_rank_sfs, cv_scores_sfs = selection_analysis(model, X_data1, Y_data, direction='forward')\n",
        "feature_rank_sbs, cv_scores_sbs = selection_analysis(model, X_data1, Y_data, direction='backward')\n",
        "cv_scores_rfe = rfe_analysis(model, X_data1, Y_data)\n",
        "\n",
        "plot_data(cv_scores_sfs, cv_scores_sbs, cv_scores_rfe)"
      ],
      "metadata": {
        "id": "UdWVRMxOeejH",
        "outputId": "774a72ad-a774-41aa-9fc0-1d5281383dfd",
        "colab": {
          "base_uri": "https://localhost:8080/",
          "height": 816
        }
      },
      "execution_count": 68,
      "outputs": [
        {
          "output_type": "stream",
          "name": "stdout",
          "text": [
            "[====================] 15/15 forward selection.\n",
            "[====================] 15/15 backward selection.\n",
            "[====================] 15/15 RFE\n",
            "\n",
            "Best results:\n",
            "\tsfs top 6 features, score: 0.8907081305513357\n",
            "\tsbs top 13 features, score: 0.8908996598284109\n",
            "\trfe top 14 features, score: 0.8905851492200737\n"
          ]
        },
        {
          "output_type": "display_data",
          "data": {
            "text/plain": [
              "<Figure size 1440x720 with 6 Axes>"
            ],
            "image/png": "[encoded data removed]"
          },
          "metadata": {
            "needs_background": "light"
          }
        }
      ]
    },
    {
      "cell_type": "code",
      "source": [
        "model = KNeighborsRegressor(n_neighbors=5)\n",
        "\n",
        "feature_rank_sfs, cv_scores_sfs = selection_analysis(model, X_data1, Y_data, direction='forward')\n",
        "feature_rank_sbs, cv_scores_sbs = selection_analysis(model, X_data1, Y_data, direction='backward')\n",
        "cv_scores_rfe = rfe_analysis(model, X_data1, Y_data)\n",
        "\n",
        "plot_data(cv_scores_sfs, cv_scores_sbs, cv_scores_rfe)"
      ],
      "metadata": {
        "id": "OWIbfqUwep_y",
        "outputId": "020e1056-886d-4e15-8b26-57b64cc43ed5",
        "colab": {
          "base_uri": "https://localhost:8080/",
          "height": 397
        }
      },
      "execution_count": 66,
      "outputs": [
        {
          "output_type": "stream",
          "name": "stdout",
          "text": [
            "\r[=>------------------] 1/15 forward selection."
          ]
        },
        {
          "output_type": "error",
          "ename": "KeyboardInterrupt",
          "evalue": "ignored",
          "traceback": [
            "\u001b[0;31m---------------------------------------------------------------------------\u001b[0m",
            "\u001b[0;31mKeyboardInterrupt\u001b[0m                         Traceback (most recent call last)",
            "\u001b[0;32m<ipython-input-66-8965dea969ed>\u001b[0m in \u001b[0;36m<module>\u001b[0;34m()\u001b[0m\n\u001b[1;32m      1\u001b[0m \u001b[0mmodel\u001b[0m \u001b[0;34m=\u001b[0m \u001b[0mKNeighborsRegressor\u001b[0m\u001b[0;34m(\u001b[0m\u001b[0mn_neighbors\u001b[0m\u001b[0;34m=\u001b[0m\u001b[0;36m5\u001b[0m\u001b[0;34m)\u001b[0m\u001b[0;34m\u001b[0m\u001b[0;34m\u001b[0m\u001b[0m\n\u001b[1;32m      2\u001b[0m \u001b[0;34m\u001b[0m\u001b[0m\n\u001b[0;32m----> 3\u001b[0;31m \u001b[0mfeature_rank_sfs\u001b[0m\u001b[0;34m,\u001b[0m \u001b[0mcv_scores_sfs\u001b[0m \u001b[0;34m=\u001b[0m \u001b[0mselection_analysis\u001b[0m\u001b[0;34m(\u001b[0m\u001b[0mmodel\u001b[0m\u001b[0;34m,\u001b[0m \u001b[0mX_data1\u001b[0m\u001b[0;34m,\u001b[0m \u001b[0mY_data\u001b[0m\u001b[0;34m,\u001b[0m \u001b[0mdirection\u001b[0m\u001b[0;34m=\u001b[0m\u001b[0;34m'forward'\u001b[0m\u001b[0;34m)\u001b[0m\u001b[0;34m\u001b[0m\u001b[0;34m\u001b[0m\u001b[0m\n\u001b[0m\u001b[1;32m      4\u001b[0m \u001b[0mfeature_rank_sbs\u001b[0m\u001b[0;34m,\u001b[0m \u001b[0mcv_scores_sbs\u001b[0m \u001b[0;34m=\u001b[0m \u001b[0mselection_analysis\u001b[0m\u001b[0;34m(\u001b[0m\u001b[0mmodel\u001b[0m\u001b[0;34m,\u001b[0m \u001b[0mX_data1\u001b[0m\u001b[0;34m,\u001b[0m \u001b[0mY_data\u001b[0m\u001b[0;34m,\u001b[0m \u001b[0mdirection\u001b[0m\u001b[0;34m=\u001b[0m\u001b[0;34m'backward'\u001b[0m\u001b[0;34m)\u001b[0m\u001b[0;34m\u001b[0m\u001b[0;34m\u001b[0m\u001b[0m\n\u001b[1;32m      5\u001b[0m \u001b[0mcv_scores_rfe\u001b[0m \u001b[0;34m=\u001b[0m \u001b[0mrfe_analysis\u001b[0m\u001b[0;34m(\u001b[0m\u001b[0mmodel\u001b[0m\u001b[0;34m,\u001b[0m \u001b[0mX_data1\u001b[0m\u001b[0;34m,\u001b[0m \u001b[0mY_data\u001b[0m\u001b[0;34m)\u001b[0m\u001b[0;34m\u001b[0m\u001b[0;34m\u001b[0m\u001b[0m\n",
            "\u001b[0;32m<ipython-input-49-d5c740fad02a>\u001b[0m in \u001b[0;36mselection_analysis\u001b[0;34m(model, X_data, y_data, direction)\u001b[0m\n\u001b[1;32m     18\u001b[0m         \u001b[0mprint_deletable_line\u001b[0m\u001b[0;34m(\u001b[0m\u001b[0mprogress_bar\u001b[0m\u001b[0;34m(\u001b[0m\u001b[0mi\u001b[0m \u001b[0;34m+\u001b[0m \u001b[0;36m1\u001b[0m\u001b[0;34m,\u001b[0m \u001b[0mn_features\u001b[0m\u001b[0;34m,\u001b[0m \u001b[0;36m20\u001b[0m\u001b[0;34m,\u001b[0m \u001b[0mdirection\u001b[0m \u001b[0;34m+\u001b[0m \u001b[0;34m\" selection.\"\u001b[0m\u001b[0;34m)\u001b[0m\u001b[0;34m)\u001b[0m\u001b[0;34m\u001b[0m\u001b[0;34m\u001b[0m\u001b[0m\n\u001b[1;32m     19\u001b[0m \u001b[0;34m\u001b[0m\u001b[0m\n\u001b[0;32m---> 20\u001b[0;31m         \u001b[0mnew_feature_index\u001b[0m \u001b[0;34m=\u001b[0m \u001b[0msfs\u001b[0m\u001b[0;34m.\u001b[0m\u001b[0m_get_best_new_feature\u001b[0m\u001b[0;34m(\u001b[0m\u001b[0mmodel\u001b[0m\u001b[0;34m,\u001b[0m \u001b[0mX_data\u001b[0m\u001b[0;34m.\u001b[0m\u001b[0mvalues\u001b[0m\u001b[0;34m,\u001b[0m \u001b[0my_data\u001b[0m\u001b[0;34m,\u001b[0m \u001b[0mcurrent_mask\u001b[0m\u001b[0;34m)\u001b[0m\u001b[0;34m\u001b[0m\u001b[0;34m\u001b[0m\u001b[0m\n\u001b[0m\u001b[1;32m     21\u001b[0m \u001b[0;34m\u001b[0m\u001b[0m\n\u001b[1;32m     22\u001b[0m         \u001b[0mcurrent_mask\u001b[0m\u001b[0;34m[\u001b[0m\u001b[0mnew_feature_index\u001b[0m\u001b[0;34m]\u001b[0m \u001b[0;34m=\u001b[0m \u001b[0;32mTrue\u001b[0m\u001b[0;34m\u001b[0m\u001b[0;34m\u001b[0m\u001b[0m\n",
            "\u001b[0;32m/usr/local/lib/python3.7/dist-packages/sklearn/feature_selection/_sequential.py\u001b[0m in \u001b[0;36m_get_best_new_feature\u001b[0;34m(self, estimator, X, y, current_mask)\u001b[0m\n\u001b[1;32m    236\u001b[0m                 \u001b[0mcv\u001b[0m\u001b[0;34m=\u001b[0m\u001b[0mself\u001b[0m\u001b[0;34m.\u001b[0m\u001b[0mcv\u001b[0m\u001b[0;34m,\u001b[0m\u001b[0;34m\u001b[0m\u001b[0;34m\u001b[0m\u001b[0m\n\u001b[1;32m    237\u001b[0m                 \u001b[0mscoring\u001b[0m\u001b[0;34m=\u001b[0m\u001b[0mself\u001b[0m\u001b[0;34m.\u001b[0m\u001b[0mscoring\u001b[0m\u001b[0;34m,\u001b[0m\u001b[0;34m\u001b[0m\u001b[0;34m\u001b[0m\u001b[0m\n\u001b[0;32m--> 238\u001b[0;31m                 \u001b[0mn_jobs\u001b[0m\u001b[0;34m=\u001b[0m\u001b[0mself\u001b[0m\u001b[0;34m.\u001b[0m\u001b[0mn_jobs\u001b[0m\u001b[0;34m,\u001b[0m\u001b[0;34m\u001b[0m\u001b[0;34m\u001b[0m\u001b[0m\n\u001b[0m\u001b[1;32m    239\u001b[0m             ).mean()\n\u001b[1;32m    240\u001b[0m         \u001b[0;32mreturn\u001b[0m \u001b[0mmax\u001b[0m\u001b[0;34m(\u001b[0m\u001b[0mscores\u001b[0m\u001b[0;34m,\u001b[0m \u001b[0mkey\u001b[0m\u001b[0;34m=\u001b[0m\u001b[0;32mlambda\u001b[0m \u001b[0mfeature_idx\u001b[0m\u001b[0;34m:\u001b[0m \u001b[0mscores\u001b[0m\u001b[0;34m[\u001b[0m\u001b[0mfeature_idx\u001b[0m\u001b[0;34m]\u001b[0m\u001b[0;34m)\u001b[0m\u001b[0;34m\u001b[0m\u001b[0;34m\u001b[0m\u001b[0m\n",
            "\u001b[0;32m/usr/local/lib/python3.7/dist-packages/sklearn/model_selection/_validation.py\u001b[0m in \u001b[0;36mcross_val_score\u001b[0;34m(estimator, X, y, groups, scoring, cv, n_jobs, verbose, fit_params, pre_dispatch, error_score)\u001b[0m\n\u001b[1;32m    518\u001b[0m         \u001b[0mfit_params\u001b[0m\u001b[0;34m=\u001b[0m\u001b[0mfit_params\u001b[0m\u001b[0;34m,\u001b[0m\u001b[0;34m\u001b[0m\u001b[0;34m\u001b[0m\u001b[0m\n\u001b[1;32m    519\u001b[0m         \u001b[0mpre_dispatch\u001b[0m\u001b[0;34m=\u001b[0m\u001b[0mpre_dispatch\u001b[0m\u001b[0;34m,\u001b[0m\u001b[0;34m\u001b[0m\u001b[0;34m\u001b[0m\u001b[0m\n\u001b[0;32m--> 520\u001b[0;31m         \u001b[0merror_score\u001b[0m\u001b[0;34m=\u001b[0m\u001b[0merror_score\u001b[0m\u001b[0;34m,\u001b[0m\u001b[0;34m\u001b[0m\u001b[0;34m\u001b[0m\u001b[0m\n\u001b[0m\u001b[1;32m    521\u001b[0m     )\n\u001b[1;32m    522\u001b[0m     \u001b[0;32mreturn\u001b[0m \u001b[0mcv_results\u001b[0m\u001b[0;34m[\u001b[0m\u001b[0;34m\"test_score\"\u001b[0m\u001b[0;34m]\u001b[0m\u001b[0;34m\u001b[0m\u001b[0;34m\u001b[0m\u001b[0m\n",
            "\u001b[0;32m/usr/local/lib/python3.7/dist-packages/sklearn/model_selection/_validation.py\u001b[0m in \u001b[0;36mcross_validate\u001b[0;34m(estimator, X, y, groups, scoring, cv, n_jobs, verbose, fit_params, pre_dispatch, return_train_score, return_estimator, error_score)\u001b[0m\n\u001b[1;32m    281\u001b[0m             \u001b[0merror_score\u001b[0m\u001b[0;34m=\u001b[0m\u001b[0merror_score\u001b[0m\u001b[0;34m,\u001b[0m\u001b[0;34m\u001b[0m\u001b[0;34m\u001b[0m\u001b[0m\n\u001b[1;32m    282\u001b[0m         )\n\u001b[0;32m--> 283\u001b[0;31m         \u001b[0;32mfor\u001b[0m \u001b[0mtrain\u001b[0m\u001b[0;34m,\u001b[0m \u001b[0mtest\u001b[0m \u001b[0;32min\u001b[0m \u001b[0mcv\u001b[0m\u001b[0;34m.\u001b[0m\u001b[0msplit\u001b[0m\u001b[0;34m(\u001b[0m\u001b[0mX\u001b[0m\u001b[0;34m,\u001b[0m \u001b[0my\u001b[0m\u001b[0;34m,\u001b[0m \u001b[0mgroups\u001b[0m\u001b[0;34m)\u001b[0m\u001b[0;34m\u001b[0m\u001b[0;34m\u001b[0m\u001b[0m\n\u001b[0m\u001b[1;32m    284\u001b[0m     )\n\u001b[1;32m    285\u001b[0m \u001b[0;34m\u001b[0m\u001b[0m\n",
            "\u001b[0;32m/usr/local/lib/python3.7/dist-packages/joblib/parallel.py\u001b[0m in \u001b[0;36m__call__\u001b[0;34m(self, iterable)\u001b[0m\n\u001b[1;32m   1054\u001b[0m \u001b[0;34m\u001b[0m\u001b[0m\n\u001b[1;32m   1055\u001b[0m             \u001b[0;32mwith\u001b[0m \u001b[0mself\u001b[0m\u001b[0;34m.\u001b[0m\u001b[0m_backend\u001b[0m\u001b[0;34m.\u001b[0m\u001b[0mretrieval_context\u001b[0m\u001b[0;34m(\u001b[0m\u001b[0;34m)\u001b[0m\u001b[0;34m:\u001b[0m\u001b[0;34m\u001b[0m\u001b[0;34m\u001b[0m\u001b[0m\n\u001b[0;32m-> 1056\u001b[0;31m                 \u001b[0mself\u001b[0m\u001b[0;34m.\u001b[0m\u001b[0mretrieve\u001b[0m\u001b[0;34m(\u001b[0m\u001b[0;34m)\u001b[0m\u001b[0;34m\u001b[0m\u001b[0;34m\u001b[0m\u001b[0m\n\u001b[0m\u001b[1;32m   1057\u001b[0m             \u001b[0;31m# Make sure that we get a last message telling us we are done\u001b[0m\u001b[0;34m\u001b[0m\u001b[0;34m\u001b[0m\u001b[0;34m\u001b[0m\u001b[0m\n\u001b[1;32m   1058\u001b[0m             \u001b[0melapsed_time\u001b[0m \u001b[0;34m=\u001b[0m \u001b[0mtime\u001b[0m\u001b[0;34m.\u001b[0m\u001b[0mtime\u001b[0m\u001b[0;34m(\u001b[0m\u001b[0;34m)\u001b[0m \u001b[0;34m-\u001b[0m \u001b[0mself\u001b[0m\u001b[0;34m.\u001b[0m\u001b[0m_start_time\u001b[0m\u001b[0;34m\u001b[0m\u001b[0;34m\u001b[0m\u001b[0m\n",
            "\u001b[0;32m/usr/local/lib/python3.7/dist-packages/joblib/parallel.py\u001b[0m in \u001b[0;36mretrieve\u001b[0;34m(self)\u001b[0m\n\u001b[1;32m    933\u001b[0m             \u001b[0;32mtry\u001b[0m\u001b[0;34m:\u001b[0m\u001b[0;34m\u001b[0m\u001b[0;34m\u001b[0m\u001b[0m\n\u001b[1;32m    934\u001b[0m                 \u001b[0;32mif\u001b[0m \u001b[0mgetattr\u001b[0m\u001b[0;34m(\u001b[0m\u001b[0mself\u001b[0m\u001b[0;34m.\u001b[0m\u001b[0m_backend\u001b[0m\u001b[0;34m,\u001b[0m \u001b[0;34m'supports_timeout'\u001b[0m\u001b[0;34m,\u001b[0m \u001b[0;32mFalse\u001b[0m\u001b[0;34m)\u001b[0m\u001b[0;34m:\u001b[0m\u001b[0;34m\u001b[0m\u001b[0;34m\u001b[0m\u001b[0m\n\u001b[0;32m--> 935\u001b[0;31m                     \u001b[0mself\u001b[0m\u001b[0;34m.\u001b[0m\u001b[0m_output\u001b[0m\u001b[0;34m.\u001b[0m\u001b[0mextend\u001b[0m\u001b[0;34m(\u001b[0m\u001b[0mjob\u001b[0m\u001b[0;34m.\u001b[0m\u001b[0mget\u001b[0m\u001b[0;34m(\u001b[0m\u001b[0mtimeout\u001b[0m\u001b[0;34m=\u001b[0m\u001b[0mself\u001b[0m\u001b[0;34m.\u001b[0m\u001b[0mtimeout\u001b[0m\u001b[0;34m)\u001b[0m\u001b[0;34m)\u001b[0m\u001b[0;34m\u001b[0m\u001b[0;34m\u001b[0m\u001b[0m\n\u001b[0m\u001b[1;32m    936\u001b[0m                 \u001b[0;32melse\u001b[0m\u001b[0;34m:\u001b[0m\u001b[0;34m\u001b[0m\u001b[0;34m\u001b[0m\u001b[0m\n\u001b[1;32m    937\u001b[0m                     \u001b[0mself\u001b[0m\u001b[0;34m.\u001b[0m\u001b[0m_output\u001b[0m\u001b[0;34m.\u001b[0m\u001b[0mextend\u001b[0m\u001b[0;34m(\u001b[0m\u001b[0mjob\u001b[0m\u001b[0;34m.\u001b[0m\u001b[0mget\u001b[0m\u001b[0;34m(\u001b[0m\u001b[0;34m)\u001b[0m\u001b[0;34m)\u001b[0m\u001b[0;34m\u001b[0m\u001b[0;34m\u001b[0m\u001b[0m\n",
            "\u001b[0;32m/usr/local/lib/python3.7/dist-packages/joblib/_parallel_backends.py\u001b[0m in \u001b[0;36mwrap_future_result\u001b[0;34m(future, timeout)\u001b[0m\n\u001b[1;32m    540\u001b[0m         AsyncResults.get from multiprocessing.\"\"\"\n\u001b[1;32m    541\u001b[0m         \u001b[0;32mtry\u001b[0m\u001b[0;34m:\u001b[0m\u001b[0;34m\u001b[0m\u001b[0;34m\u001b[0m\u001b[0m\n\u001b[0;32m--> 542\u001b[0;31m             \u001b[0;32mreturn\u001b[0m \u001b[0mfuture\u001b[0m\u001b[0;34m.\u001b[0m\u001b[0mresult\u001b[0m\u001b[0;34m(\u001b[0m\u001b[0mtimeout\u001b[0m\u001b[0;34m=\u001b[0m\u001b[0mtimeout\u001b[0m\u001b[0;34m)\u001b[0m\u001b[0;34m\u001b[0m\u001b[0;34m\u001b[0m\u001b[0m\n\u001b[0m\u001b[1;32m    543\u001b[0m         \u001b[0;32mexcept\u001b[0m \u001b[0mCfTimeoutError\u001b[0m \u001b[0;32mas\u001b[0m \u001b[0me\u001b[0m\u001b[0;34m:\u001b[0m\u001b[0;34m\u001b[0m\u001b[0;34m\u001b[0m\u001b[0m\n\u001b[1;32m    544\u001b[0m             \u001b[0;32mraise\u001b[0m \u001b[0mTimeoutError\u001b[0m \u001b[0;32mfrom\u001b[0m \u001b[0me\u001b[0m\u001b[0;34m\u001b[0m\u001b[0;34m\u001b[0m\u001b[0m\n",
            "\u001b[0;32m/usr/lib/python3.7/concurrent/futures/_base.py\u001b[0m in \u001b[0;36mresult\u001b[0;34m(self, timeout)\u001b[0m\n\u001b[1;32m    428\u001b[0m                 \u001b[0;32mreturn\u001b[0m \u001b[0mself\u001b[0m\u001b[0;34m.\u001b[0m\u001b[0m__get_result\u001b[0m\u001b[0;34m(\u001b[0m\u001b[0;34m)\u001b[0m\u001b[0;34m\u001b[0m\u001b[0;34m\u001b[0m\u001b[0m\n\u001b[1;32m    429\u001b[0m \u001b[0;34m\u001b[0m\u001b[0m\n\u001b[0;32m--> 430\u001b[0;31m             \u001b[0mself\u001b[0m\u001b[0;34m.\u001b[0m\u001b[0m_condition\u001b[0m\u001b[0;34m.\u001b[0m\u001b[0mwait\u001b[0m\u001b[0;34m(\u001b[0m\u001b[0mtimeout\u001b[0m\u001b[0;34m)\u001b[0m\u001b[0;34m\u001b[0m\u001b[0;34m\u001b[0m\u001b[0m\n\u001b[0m\u001b[1;32m    431\u001b[0m \u001b[0;34m\u001b[0m\u001b[0m\n\u001b[1;32m    432\u001b[0m             \u001b[0;32mif\u001b[0m \u001b[0mself\u001b[0m\u001b[0;34m.\u001b[0m\u001b[0m_state\u001b[0m \u001b[0;32min\u001b[0m \u001b[0;34m[\u001b[0m\u001b[0mCANCELLED\u001b[0m\u001b[0;34m,\u001b[0m \u001b[0mCANCELLED_AND_NOTIFIED\u001b[0m\u001b[0;34m]\u001b[0m\u001b[0;34m:\u001b[0m\u001b[0;34m\u001b[0m\u001b[0;34m\u001b[0m\u001b[0m\n",
            "\u001b[0;32m/usr/lib/python3.7/threading.py\u001b[0m in \u001b[0;36mwait\u001b[0;34m(self, timeout)\u001b[0m\n\u001b[1;32m    294\u001b[0m         \u001b[0;32mtry\u001b[0m\u001b[0;34m:\u001b[0m    \u001b[0;31m# restore state no matter what (e.g., KeyboardInterrupt)\u001b[0m\u001b[0;34m\u001b[0m\u001b[0;34m\u001b[0m\u001b[0m\n\u001b[1;32m    295\u001b[0m             \u001b[0;32mif\u001b[0m \u001b[0mtimeout\u001b[0m \u001b[0;32mis\u001b[0m \u001b[0;32mNone\u001b[0m\u001b[0;34m:\u001b[0m\u001b[0;34m\u001b[0m\u001b[0;34m\u001b[0m\u001b[0m\n\u001b[0;32m--> 296\u001b[0;31m                 \u001b[0mwaiter\u001b[0m\u001b[0;34m.\u001b[0m\u001b[0macquire\u001b[0m\u001b[0;34m(\u001b[0m\u001b[0;34m)\u001b[0m\u001b[0;34m\u001b[0m\u001b[0;34m\u001b[0m\u001b[0m\n\u001b[0m\u001b[1;32m    297\u001b[0m                 \u001b[0mgotit\u001b[0m \u001b[0;34m=\u001b[0m \u001b[0;32mTrue\u001b[0m\u001b[0;34m\u001b[0m\u001b[0;34m\u001b[0m\u001b[0m\n\u001b[1;32m    298\u001b[0m             \u001b[0;32melse\u001b[0m\u001b[0;34m:\u001b[0m\u001b[0;34m\u001b[0m\u001b[0;34m\u001b[0m\u001b[0m\n",
            "\u001b[0;31mKeyboardInterrupt\u001b[0m: "
          ]
        }
      ]
    }
  ],
  "metadata": {
    "interpreter": {
      "hash": "6c7f3514aa64bff2050be46dd126600a182e852c5c9d7f0c8c07ad90dc295c52"
    },
    "kernelspec": {
      "display_name": "Python 3.9.7 ('base')",
      "language": "python",
      "name": "python3"
    },
    "language_info": {
      "codemirror_mode": {
        "name": "ipython",
        "version": 3
      },
      "file_extension": ".py",
      "mimetype": "text/x-python",
      "name": "python",
      "nbconvert_exporter": "python",
      "pygments_lexer": "ipython3",
      "version": "3.9.7"
    },
    "orig_nbformat": 4,
    "colab": {
      "name": "progetto.ipynb",
      "provenance": []
    }
  },
  "nbformat": 4,
  "nbformat_minor": 0
}